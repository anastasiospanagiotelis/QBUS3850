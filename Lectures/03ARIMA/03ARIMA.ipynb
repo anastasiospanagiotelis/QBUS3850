{
 "cells": [
  {
   "cell_type": "code",
   "execution_count": 1,
   "metadata": {
    "slideshow": {
     "slide_type": "skip"
    }
   },
   "outputs": [],
   "source": [
    "import warnings\n",
    "warnings.filterwarnings('ignore')"
   ]
  },
  {
   "cell_type": "markdown",
   "metadata": {
    "slideshow": {
     "slide_type": "slide"
    }
   },
   "source": [
    "<h1 style = \"fontsize:400%;text-align:center;\">QBUS3850: Time Series and Forecasting</h1>\n",
    "<h2 style = \"fontsize:300%;text-align:center;\">ARIMA</h2>\n",
    "<h3 style = \"fontsize:200%;text-align:center;\">Lecture Notes</h3>"
   ]
  },
  {
   "cell_type": "markdown",
   "metadata": {
    "slideshow": {
     "slide_type": "slide"
    }
   },
   "source": [
    "<h2 style = \"fontsize:300%;text-align:center;\">Why ARIMA?</h2>"
   ]
  },
  {
   "cell_type": "markdown",
   "metadata": {
    "slideshow": {
     "slide_type": "slide"
    }
   },
   "source": [
    "# ARIMA models\n",
    "\n",
    "- Have been a popular forecasting tool since at least the 1970s \n",
    "- Why do they work?\n",
    "  - Data can be differenced to make it stationary.\n",
    "  - Any stationary series has an ARMA representation.\n",
    "  - Maximum likelihood can be used to estimate ARMA models that can be used to generate forecasts\n",
    "- First question: What is stationarity"
   ]
  },
  {
   "cell_type": "markdown",
   "metadata": {
    "slideshow": {
     "slide_type": "slide"
    }
   },
   "source": [
    "<h2 style = \"fontsize:300%;text-align:center;\">Stationarity</h2>"
   ]
  },
  {
   "cell_type": "markdown",
   "metadata": {
    "slideshow": {
     "slide_type": "slide"
    }
   },
   "source": [
    "# Expectations in time series\n",
    "\n",
    "- Consider the time series\n",
    "$$Y_1,Y_2,\\dots,Y_T$$\n",
    "- What do we mean by the expected value $E(Y_t)$?\n",
    "- Let the density of $Y_t$ be $f_{Y_t}$. The expected value is given by\n",
    "$$E(Y_t)=\\int y_tf_{Y_t}(y_t)dy_t$$\n",
    "- This is the *unconditional* expected value.\n"
   ]
  },
  {
   "cell_type": "markdown",
   "metadata": {
    "slideshow": {
     "slide_type": "fragment"
    }
   },
   "source": [
    "# An Illustration\n",
    "\n",
    "- Imagine $I$ computers generating different realisations of the time series\n",
    "$$\\begin{aligned}\\textrm{Computer 1:}\\,&y^{(1)}_1,y^{(1)}_2\\dots, y^{(1)}_t,\\dots,y^{(1)}_{T}\\\\\\textrm{Computer 2:}\\,& y^{(2)}_1,y^{(2)}_2\\dots, y^{(2)}_t,\\dots,y^{(2)}_{T}\\\\&\\vdots\\quad\\vdots\\quad\\vdots\\quad\\vdots\\quad\\vdots\\quad\\vdots\\\\\\textrm{Computer T:}\\,& y^{(I)}_1,y^{(I)}_2\\dots, y^{(I)}_t,\\dots,y^{(I)}_{T}\\end{aligned}$$\n",
    "- Let the computer Take observation $t$ from each computer and average them.\n",
    "$E(Y_t)=\\underset{I\\rightarrow\\infty}{\\lim}\\frac{1}{I}\\sum\\limits{}{}Y_t$"
   ]
  },
  {
   "cell_type": "markdown",
   "metadata": {
    "slideshow": {
     "slide_type": "slide"
    }
   },
   "source": [
    "<h2 style = \"fontsize:300%;text-align:center;\">Playing with lag operators</h2>"
   ]
  },
  {
   "cell_type": "markdown",
   "metadata": {
    "slideshow": {
     "slide_type": "slide"
    }
   },
   "source": [
    "<h2 style = \"fontsize:300%;text-align:center;\">Box Jenkins</h2>"
   ]
  },
  {
   "cell_type": "markdown",
   "metadata": {
    "slideshow": {
     "slide_type": "slide"
    }
   },
   "source": [
    "<h2 style = \"fontsize:300%;text-align:center;\">Auto ARIMA</h2>"
   ]
  }
 ],
 "metadata": {
  "celltoolbar": "Slideshow",
  "kernelspec": {
   "display_name": "Python 3",
   "language": "python",
   "name": "python3"
  },
  "language_info": {
   "codemirror_mode": {
    "name": "ipython",
    "version": 3
   },
   "file_extension": ".py",
   "mimetype": "text/x-python",
   "name": "python",
   "nbconvert_exporter": "python",
   "pygments_lexer": "ipython3",
   "version": "3.8.5"
  }
 },
 "nbformat": 4,
 "nbformat_minor": 4
}
