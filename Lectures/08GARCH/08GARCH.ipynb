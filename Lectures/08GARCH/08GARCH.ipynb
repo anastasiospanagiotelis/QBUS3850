{
 "cells": [
  {
   "cell_type": "code",
   "execution_count": 1,
   "metadata": {
    "slideshow": {
     "slide_type": "skip"
    }
   },
   "outputs": [],
   "source": [
    "import warnings\n",
    "warnings.filterwarnings('ignore')"
   ]
  },
  {
   "cell_type": "markdown",
   "metadata": {
    "slideshow": {
     "slide_type": "slide"
    }
   },
   "source": [
    "<h1 style = \"fontsize:400%;text-align:center;\">QBUS3850: Time Series and Forecasting</h1>\n",
    "<h2 style = \"fontsize:300%;text-align:center;\">GARCH</h2>\n",
    "<h3 style = \"fontsize:200%;text-align:center;\">Lecture Notes</h3>"
   ]
  },
  {
   "cell_type": "markdown",
   "metadata": {
    "slideshow": {
     "slide_type": "slide"
    }
   },
   "source": [
    "<h2 style = \"fontsize:300%;text-align:center;\">Extending ARCH</h2>"
   ]
  },
  {
   "cell_type": "markdown",
   "metadata": {
    "slideshow": {
     "slide_type": "slide"
    }
   },
   "source": [
    "# ARCH Model\n",
    "\n",
    "- Recall the ARCH(p) model is given by\n",
    "\n",
    "$$\\begin{aligned}u_t&=\\sigma_t\\epsilon_t\\\\\\sigma^2_t&=\\alpha_0+\\alpha_1 u^2_{t-1}+\\dots+\\alpha_p u^2_{t-p}\\end{aligned}$$"
   ]
  },
  {
   "cell_type": "markdown",
   "metadata": {
    "slideshow": {
     "slide_type": "slide"
    }
   },
   "source": [
    "# Infinite lags\n",
    "\n",
    "- A limitation is that the variance only depends on $p$ lags of $u^2$\n",
    "- Is there a parsimonious way to make it depend on an infinte number of lags\n",
    "- Recall that in mean modelling, an ARMA could be written as either \n",
    "  - An infinite order AR model\n",
    "  - An infinite order MA model\n",
    "- How can we do this?"
   ]
  },
  {
   "cell_type": "markdown",
   "metadata": {
    "slideshow": {
     "slide_type": "slide"
    }
   },
   "source": [
    "# Generalised ARCH (GARCH)\n",
    "\n",
    "- The GARCH(1,1) is given by\n",
    "\n",
    "$$\\begin{aligned}u_t&=\\sigma_t\\epsilon_t\\\\\\sigma^2_t&=\\alpha_0+\\alpha_1 u^2_{t-1}+\\beta_1\\sigma^2_{t-1}\\end{aligned}$$\n",
    "\n",
    "- Is $\\alpha_1$ the \"MA\" term and $\\alpha_2$ the \"AR\" term?\n",
    "- NO! Why not?\n",
    "  - No $u_t^2$ on LHS and $u_t^2$ is not white noise."
   ]
  },
  {
   "cell_type": "markdown",
   "metadata": {
    "slideshow": {
     "slide_type": "slide"
    }
   },
   "source": [
    "# GARCH as an ARMA\n",
    "\n",
    "- Add $u_t^2$ to both sides $\\sigma^2_t=\\alpha_0+\\alpha_1 u^2_{t-1}+\\beta_1\\sigma^2_{t-1}$\n",
    "\n",
    "\n",
    "$$\\begin{aligned}\\sigma^2_t+u^2_t&=\\alpha_0+\\alpha_1 u^2_{t-1}+\\beta_1\\sigma^2_{t-1}+u_t^2\\\\\\sigma^2_t+u^2_t&=\\alpha_0+\\alpha_1u^2_{t-1}\\color{red}{-\\beta_1u^2_{t-1}+\\beta_1u^2_{t-1}}+\\beta_1\\sigma^2_{t-1}+u_t^2\\\\\\sigma^2_t+u^2_t&=\\alpha_0+(\\alpha_1+\\beta_1)u^2_{t-1}-\\beta_1(u^2_{t-1}-\\sigma_{t-1}^2)+u_t^2\\\\u^2_t&=\\alpha_0+(\\alpha_1+\\beta_1)u^2_{t-1}+(u_t^2-\\sigma^2_{t-1})-\\beta_1(u^2_{t-1}-\\sigma_{t-1}^2)\\end{aligned}$$\n",
    "\n",
    "- If we define $w_t=u_t^2-\\sigma^2_{t-1}$ then\n",
    "\n",
    "$$u^2_t=\\alpha_0+(\\alpha_1+\\beta_1)u^2_{t-1}+w_t-\\beta_1w_{t-1}$$\n",
    "\n",
    "- We can show that $w_t$ is white noise."
   ]
  },
  {
   "cell_type": "markdown",
   "metadata": {
    "slideshow": {
     "slide_type": "slide"
    }
   },
   "source": [
    "# Parameter Constraints \n",
    "\n",
    "-To guarantee positive variances\n",
    "  - Assume all parameters positive\n",
    "  - Weaker conditions can be found\n",
    "- To "
   ]
  }
 ],
 "metadata": {
  "celltoolbar": "Slideshow",
  "kernelspec": {
   "display_name": "Python 3",
   "language": "python",
   "name": "python3"
  },
  "language_info": {
   "codemirror_mode": {
    "name": "ipython",
    "version": 3
   },
   "file_extension": ".py",
   "mimetype": "text/x-python",
   "name": "python",
   "nbconvert_exporter": "python",
   "pygments_lexer": "ipython3",
   "version": "3.8.5"
  },
  "rise": {
   "autolaunch": true,
   "enable_chalkboard": true,
   "scroll": true,
   "start_slideshow_at": "beginning"
  }
 },
 "nbformat": 4,
 "nbformat_minor": 4
}
