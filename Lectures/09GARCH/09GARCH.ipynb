{
 "cells": [
  {
   "cell_type": "code",
   "execution_count": 1,
   "metadata": {
    "slideshow": {
     "slide_type": "skip"
    }
   },
   "outputs": [],
   "source": [
    "import warnings\n",
    "warnings.filterwarnings('ignore')"
   ]
  },
  {
   "cell_type": "markdown",
   "metadata": {
    "slideshow": {
     "slide_type": "slide"
    }
   },
   "source": [
    "<h1 style = \"fontsize:400%;text-align:center;\">QBUS3850: Time Series and Forecasting</h1>\n",
    "<h2 style = \"fontsize:300%;text-align:center;\">GARCH</h2>\n",
    "<h3 style = \"fontsize:200%;text-align:center;\">Lecture Notes</h3>"
   ]
  },
  {
   "cell_type": "markdown",
   "metadata": {
    "slideshow": {
     "slide_type": "slide"
    }
   },
   "source": [
    "<h2 style = \"fontsize:300%;text-align:center;\">Extending ARCH</h2>"
   ]
  },
  {
   "cell_type": "markdown",
   "metadata": {
    "slideshow": {
     "slide_type": "slide"
    }
   },
   "source": [
    "# ARCH Model\n",
    "\n",
    "- Recall the ARCH(p) model is given by\n",
    "\n",
    "$$\\begin{aligned}u_t&=\\sigma_t\\epsilon_t\\\\\\sigma^2_t&=\\alpha_0+\\alpha_1 u^2_{t-1}+\\dots+\\alpha_p u^2_{t-p}\\end{aligned}$$"
   ]
  },
  {
   "cell_type": "markdown",
   "metadata": {
    "slideshow": {
     "slide_type": "slide"
    }
   },
   "source": [
    "# Infinite lags\n",
    "\n",
    "- A limitation is that the variance only depends on $p$ lags of $u^2$\n",
    "- Is there a parsimonious way to make it depend on an infinite number of lags?\n",
    "- Recall that in mean modelling, an ARMA could be written as either \n",
    "  - An infinite order AR model\n",
    "  - An infinite order MA model\n",
    "- How can we do this extend this idea to ARCH?"
   ]
  },
  {
   "cell_type": "markdown",
   "metadata": {
    "slideshow": {
     "slide_type": "slide"
    }
   },
   "source": [
    "# Generalised ARCH (GARCH)\n",
    "\n",
    "- The GARCH(1,1) is given by\n",
    "\n",
    "$$\\begin{aligned}u_t&=\\sigma_t\\epsilon_t\\\\\\sigma^2_t&=\\alpha_0+\\alpha_1 u^2_{t-1}+\\beta_1\\sigma^2_{t-1}\\end{aligned}$$\n",
    "\n",
    "- Is $\\alpha_1$ the \"MA\" term and $\\beta_1$ the \"AR\" term?\n",
    "- NO! Why not?\n",
    "  - No $u_t^2$ on LHS and $u_t^2$ is not white noise."
   ]
  },
  {
   "cell_type": "markdown",
   "metadata": {
    "slideshow": {
     "slide_type": "slide"
    }
   },
   "source": [
    "# GARCH as an ARMA\n",
    "\n",
    "- Add $u_t^2$ to both sides of previous equation\n",
    "\n",
    "$$\\begin{aligned}\\sigma^2_t+u^2_t&=\\alpha_0+\\alpha_1 u^2_{t-1}+\\beta_1\\sigma^2_{t-1}+u_t^2\\\\\\sigma^2_t+u^2_t&=\\alpha_0+\\alpha_1u^2_{t-1}\\color{red}{-\\beta_1u^2_{t-1}+\\beta_1u^2_{t-1}}+\\beta_1\\sigma^2_{t-1}+u_t^2\\\\\\sigma^2_t+u^2_t&=\\alpha_0+(\\alpha_1+\\beta_1)u^2_{t-1}-\\beta_1(u^2_{t-1}-\\sigma_{t-1}^2)+u_t^2\\\\u^2_t&=\\alpha_0+(\\alpha_1+\\beta_1)u^2_{t-1}+(u_t^2-\\sigma^2_{t})-\\beta_1(u^2_{t-1}-\\sigma_{t-1}^2)\\end{aligned}$$\n",
    "\n",
    "- If we define $w_t=u_t^2-\\sigma^2_{t}$ then\n",
    "\n",
    "$$u^2_t=\\alpha_0+(\\alpha_1+\\beta_1)u^2_{t-1}+w_t-\\beta_1w_{t-1}$$\n",
    "\n",
    "- It can be shown that $w_t$ is white noise."
   ]
  },
  {
   "cell_type": "markdown",
   "metadata": {
    "slideshow": {
     "slide_type": "slide"
    }
   },
   "source": [
    "# GARCH(p,q)\n",
    "\n",
    "- The GARCH(p,q) is given by\n",
    "\n",
    "$$\\begin{aligned}u_t&=\\sigma_t\\epsilon_t\\\\\\sigma^2_t&=\\alpha_0+\\alpha_1 u^2_{t-1}+\\dots+\\alpha_p u^2_{t-p}+\\beta_1\\sigma^2_{t-1}+\\dots+\\beta_q\\sigma^2_{t-q}\\end{aligned}$$\n",
    "\n",
    "This can also be written as an ARMA(max(p,q),q). You can try this as an exercise."
   ]
  },
  {
   "cell_type": "markdown",
   "metadata": {
    "slideshow": {
     "slide_type": "slide"
    }
   },
   "source": [
    "# Parameter Constraints \n",
    "\n",
    "- To guarantee positive variances\n",
    "  - Assume all parameters positive\n",
    "  - Weaker conditions can be found as well\n",
    "- To guarantee stationarity\n",
    "  - Assume $\\sum\\limits_{j=1}^{\\max(p,q)} (\\alpha_i+\\beta_i)<1$ where $\\alpha_j=0$ for $j>p$ when $p<q$ and $\\beta_j=0$ for $j>q$ when $p>q$\n",
    "- The constraints are imposed in ML estimation."
   ]
  },
  {
   "cell_type": "markdown",
   "metadata": {
    "slideshow": {
     "slide_type": "slide"
    }
   },
   "source": [
    "# Parameter Estimation\n",
    "\n",
    "- Conditional maximum likelihood is typically used.\n",
    "  - Condition on actual values of $u_1$\n",
    "  - Condition on $\\sigma^2_0$ as unconditional variance\n",
    "- Unlike ARMA, unconditional likelihood of a GARCH model is an open research question."
   ]
  },
  {
   "cell_type": "markdown",
   "metadata": {
    "slideshow": {
     "slide_type": "slide"
    }
   },
   "source": [
    "# In Python\n",
    "\n",
    "Read in data and compute returns"
   ]
  },
  {
   "cell_type": "code",
   "execution_count": 1,
   "metadata": {
    "slideshow": {
     "slide_type": "-"
    }
   },
   "outputs": [],
   "source": [
    "import pandas as pd\n",
    "import numpy as np\n",
    "rio = pd.read_csv('BHP.AX.csv')\n",
    "rio['Date'] = pd.to_datetime(rio['Date'])\n",
    "ret=np.log(rio['Close']).diff()\n",
    "from arch import arch_model"
   ]
  },
  {
   "cell_type": "markdown",
   "metadata": {
    "slideshow": {
     "slide_type": "slide"
    }
   },
   "source": [
    "# Estimate"
   ]
  },
  {
   "cell_type": "code",
   "execution_count": 3,
   "metadata": {
    "slideshow": {
     "slide_type": "-"
    }
   },
   "outputs": [
    {
     "name": "stdout",
     "output_type": "stream",
     "text": [
      "Iteration:      1,   Func. Count:      6,   Neg. LLF: 3.159062029668248e+19\n",
      "Iteration:      2,   Func. Count:     18,   Neg. LLF: 1989154051.5722616\n",
      "Iteration:      3,   Func. Count:     31,   Neg. LLF: 8.521591988793891e+19\n",
      "Iteration:      4,   Func. Count:     44,   Neg. LLF: -3347.740599589584\n",
      "Optimization terminated successfully    (Exit mode 0)\n",
      "            Current function value: -3347.7405932698794\n",
      "            Iterations: 8\n",
      "            Function evaluations: 44\n",
      "            Gradient evaluations: 4\n",
      "                     Constant Mean - GARCH Model Results                      \n",
      "==============================================================================\n",
      "Dep. Variable:                  Close   R-squared:                      -0.001\n",
      "Mean Model:             Constant Mean   Adj. R-squared:                 -0.001\n",
      "Vol Model:                      GARCH   Log-Likelihood:                3347.74\n",
      "Distribution:                  Normal   AIC:                          -6687.48\n",
      "Method:            Maximum Likelihood   BIC:                          -6666.90\n",
      "                                        No. Observations:                 1267\n",
      "Date:                Thu, Apr 14 2022   Df Residuals:                     1263\n",
      "Time:                        09:04:04   Df Model:                            4\n",
      "                                  Mean Model                                 \n",
      "=============================================================================\n",
      "                 coef    std err          t      P>|t|       95.0% Conf. Int.\n",
      "-----------------------------------------------------------------------------\n",
      "mu         5.6645e-04  4.763e-04      1.189      0.234 [-3.671e-04,1.500e-03]\n",
      "                              Volatility Model                              \n",
      "============================================================================\n",
      "                 coef    std err          t      P>|t|      95.0% Conf. Int.\n",
      "----------------------------------------------------------------------------\n",
      "omega      7.2037e-06  3.150e-11  2.287e+05      0.000 [7.204e-06,7.204e-06]\n",
      "alpha[1]       0.1000  3.179e-02      3.146  1.656e-03   [3.770e-02,  0.162]\n",
      "beta[1]        0.8800  2.561e-02     34.357 1.123e-258     [  0.830,  0.930]\n",
      "============================================================================\n",
      "\n",
      "Covariance estimator: robust\n"
     ]
    }
   ],
   "source": [
    "\n",
    "fitgarch11 = arch_model( ret[1:], mean='Constant', vol='GARCH', p=1, q=1 ).fit()\n",
    "print( fitgarch11.summary() )"
   ]
  },
  {
   "cell_type": "markdown",
   "metadata": {
    "slideshow": {
     "slide_type": "slide"
    }
   },
   "source": [
    "# Diagnostics: LM test"
   ]
  },
  {
   "cell_type": "code",
   "execution_count": 4,
   "metadata": {},
   "outputs": [
    {
     "data": {
      "text/html": [
       "<div>\n",
       "<style scoped>\n",
       "    .dataframe tbody tr th:only-of-type {\n",
       "        vertical-align: middle;\n",
       "    }\n",
       "\n",
       "    .dataframe tbody tr th {\n",
       "        vertical-align: top;\n",
       "    }\n",
       "\n",
       "    .dataframe thead th {\n",
       "        text-align: right;\n",
       "    }\n",
       "</style>\n",
       "<table border=\"1\" class=\"dataframe\">\n",
       "  <thead>\n",
       "    <tr style=\"text-align: right;\">\n",
       "      <th></th>\n",
       "      <th>lb_stat</th>\n",
       "      <th>lb_pvalue</th>\n",
       "    </tr>\n",
       "  </thead>\n",
       "  <tbody>\n",
       "    <tr>\n",
       "      <th>1</th>\n",
       "      <td>0.054225</td>\n",
       "      <td>NaN</td>\n",
       "    </tr>\n",
       "    <tr>\n",
       "      <th>2</th>\n",
       "      <td>4.603307</td>\n",
       "      <td>NaN</td>\n",
       "    </tr>\n",
       "    <tr>\n",
       "      <th>3</th>\n",
       "      <td>4.762947</td>\n",
       "      <td>0.029079</td>\n",
       "    </tr>\n",
       "    <tr>\n",
       "      <th>4</th>\n",
       "      <td>4.925100</td>\n",
       "      <td>0.085217</td>\n",
       "    </tr>\n",
       "    <tr>\n",
       "      <th>5</th>\n",
       "      <td>6.355983</td>\n",
       "      <td>0.095519</td>\n",
       "    </tr>\n",
       "    <tr>\n",
       "      <th>6</th>\n",
       "      <td>13.834471</td>\n",
       "      <td>0.007843</td>\n",
       "    </tr>\n",
       "    <tr>\n",
       "      <th>7</th>\n",
       "      <td>14.772225</td>\n",
       "      <td>0.011381</td>\n",
       "    </tr>\n",
       "    <tr>\n",
       "      <th>8</th>\n",
       "      <td>14.893791</td>\n",
       "      <td>0.021099</td>\n",
       "    </tr>\n",
       "    <tr>\n",
       "      <th>9</th>\n",
       "      <td>14.960412</td>\n",
       "      <td>0.036510</td>\n",
       "    </tr>\n",
       "    <tr>\n",
       "      <th>10</th>\n",
       "      <td>16.271789</td>\n",
       "      <td>0.038651</td>\n",
       "    </tr>\n",
       "  </tbody>\n",
       "</table>\n",
       "</div>"
      ],
      "text/plain": [
       "      lb_stat  lb_pvalue\n",
       "1    0.054225        NaN\n",
       "2    4.603307        NaN\n",
       "3    4.762947   0.029079\n",
       "4    4.925100   0.085217\n",
       "5    6.355983   0.095519\n",
       "6   13.834471   0.007843\n",
       "7   14.772225   0.011381\n",
       "8   14.893791   0.021099\n",
       "9   14.960412   0.036510\n",
       "10  16.271789   0.038651"
      ]
     },
     "execution_count": 4,
     "metadata": {},
     "output_type": "execute_result"
    }
   ],
   "source": [
    "import statsmodels.api as sm\n",
    "sres=fitgarch11.std_resid\n",
    "sressq=pow(sres,2)\n",
    "sm.stats.diagnostic.acorr_ljungbox(sressq,lags=10,model_df=2,return_df=True)"
   ]
  },
  {
   "cell_type": "markdown",
   "metadata": {
    "slideshow": {
     "slide_type": "slide"
    }
   },
   "source": [
    "# Diagnostics QQ plot"
   ]
  },
  {
   "cell_type": "code",
   "execution_count": 5,
   "metadata": {
    "scrolled": true
   },
   "outputs": [
    {
     "data": {
      "text/plain": [
       "Jarque_beraResult(statistic=369.1470611254877, pvalue=0.0)"
      ]
     },
     "execution_count": 5,
     "metadata": {},
     "output_type": "execute_result"
    },
    {
     "data": {
      "image/png": "[encoded data removed]",
      "text/plain": [
       "<Figure size 432x288 with 1 Axes>"
      ]
     },
     "metadata": {
      "needs_background": "light"
     },
     "output_type": "display_data"
    }
   ],
   "source": [
    "qq=sm.qqplot(sres,line='45')\n",
    "qq.show()\n",
    "import scipy \n",
    "scipy.stats.jarque_bera(sres)"
   ]
  },
  {
   "cell_type": "markdown",
   "metadata": {
    "slideshow": {
     "slide_type": "slide"
    }
   },
   "source": [
    "<h2 style = \"fontsize:300%;text-align:center;\">Asymmetric GARCH</h2>"
   ]
  },
  {
   "cell_type": "markdown",
   "metadata": {
    "slideshow": {
     "slide_type": "slide"
    }
   },
   "source": [
    "# Leverage effect\n",
    "\n",
    "- The ARCH and GARCH models both assume that volatility only reacts to past volatility.\n",
    "- The direction of returns can also influence volatility.\n",
    "- It is common to empirically observe that negative returns lead to more volatlity in the following period compared to positive returns.\n",
    "- This is often called the *leverage effect* and motivates many models, including GJR-GARCH and EGARCH\n"
   ]
  },
  {
   "cell_type": "markdown",
   "metadata": {
    "slideshow": {
     "slide_type": "subslide"
    }
   },
   "source": [
    "# Why leverage effect\n",
    "\n",
    "- Original explanation was that falling prices increased the debt-to-equity ratio (leverage) and that companies with higher debt-to-equity were more volatile.\n",
    "- This has since been discredited, as even exchange rates and commodity prices exhibit the feature of asymmetric volatility.\n",
    "- However the original name has stuck!\n",
    "- Sometimes you will hear this effect referred to as the volatility feedback effect.\n"
   ]
  },
  {
   "cell_type": "markdown",
   "metadata": {
    "slideshow": {
     "slide_type": "slide"
    }
   },
   "source": [
    "# GJR- GARCH\n",
    "\n",
    "- Proposed by **G**losten **J**agannathan and **R**unkle (1993) hence the name\n",
    "\n",
    "$$\\sigma^2_t = \\alpha_0+\\alpha_1 u^2_{t-1}+\\gamma_1 I_{t-1}u^2_{t-1}+\\beta_1\\sigma^2_{t-1}$$\n",
    "\n",
    "- Here $I_{t-1}=0$ if $u_{t-1}>0$ and $I_{t-1}=1$ if $u_{t-1}<0$"
   ]
  },
  {
   "cell_type": "markdown",
   "metadata": {
    "slideshow": {
     "slide_type": "slide"
    }
   },
   "source": [
    "# GJR-GARCH\n",
    "\n",
    "- Think of this as two GARCH models\n",
    "- After positive returns\n",
    "$$\\sigma^2_t = \\alpha_0+\\alpha_1 u^2_{t-1}+\\beta_1\\sigma^2_{t-1}$$\n",
    "- After negative returns\n",
    "$$\\sigma^2_t = \\alpha_0+(\\alpha_1+\\gamma_1) u^2_{t-1}+\\beta_1\\sigma^2_{t-1}$$\n",
    "- The parameter $\\gamma_1$ measures the extent of the asymmetry"
   ]
  },
  {
   "cell_type": "markdown",
   "metadata": {
    "slideshow": {
     "slide_type": "slide"
    }
   },
   "source": [
    "# In Python\n",
    "\n",
    "- Use GARCH but set `o` option."
   ]
  },
  {
   "cell_type": "code",
   "execution_count": 6,
   "metadata": {},
   "outputs": [
    {
     "name": "stdout",
     "output_type": "stream",
     "text": [
      "Iteration:      1,   Func. Count:      7,   Neg. LLF: 1.4264721345428547e+18\n",
      "Iteration:      2,   Func. Count:     20,   Neg. LLF: 108551.9860212103\n",
      "Iteration:      3,   Func. Count:     31,   Neg. LLF: -3356.254698152263\n",
      "Optimization terminated successfully    (Exit mode 0)\n",
      "            Current function value: -3356.2546967408616\n",
      "            Iterations: 7\n",
      "            Function evaluations: 31\n",
      "            Gradient evaluations: 3\n",
      "                   Constant Mean - GJR-GARCH Model Results                    \n",
      "==============================================================================\n",
      "Dep. Variable:                  Close   R-squared:                      -0.000\n",
      "Mean Model:             Constant Mean   Adj. R-squared:                 -0.000\n",
      "Vol Model:                  GJR-GARCH   Log-Likelihood:                3356.25\n",
      "Distribution:                  Normal   AIC:                          -6702.51\n",
      "Method:            Maximum Likelihood   BIC:                          -6676.79\n",
      "                                        No. Observations:                 1267\n",
      "Date:                Thu, Apr 14 2022   Df Residuals:                     1262\n",
      "Time:                        09:04:04   Df Model:                            5\n",
      "                                 Mean Model                                 \n",
      "============================================================================\n",
      "                 coef    std err          t      P>|t|      95.0% Conf. Int.\n",
      "----------------------------------------------------------------------------\n",
      "mu         2.8188e-05  8.749e-06      3.222  1.274e-03 [1.104e-05,4.534e-05]\n",
      "                               Volatility Model                              \n",
      "=============================================================================\n",
      "                 coef    std err          t      P>|t|       95.0% Conf. Int.\n",
      "-----------------------------------------------------------------------------\n",
      "omega      7.2042e-06  9.665e-11  7.454e+04      0.000  [7.204e-06,7.204e-06]\n",
      "alpha[1]       0.0100  1.153e-02      0.868      0.386 [-1.259e-02,3.259e-02]\n",
      "gamma[1]       0.1000  3.808e-02      2.626  8.637e-03    [2.537e-02,  0.175]\n",
      "beta[1]        0.9200  1.077e-02     85.392      0.000      [  0.899,  0.941]\n",
      "=============================================================================\n",
      "\n",
      "Covariance estimator: robust\n"
     ]
    }
   ],
   "source": [
    "\n",
    "fitgjrgarch11 = arch_model( ret[1:], mean='Constant', vol='GARCH', p=1, q=1 , o=1).fit()\n",
    "print( fitgjrgarch11.summary() )"
   ]
  },
  {
   "cell_type": "markdown",
   "metadata": {
    "slideshow": {
     "slide_type": "slide"
    }
   },
   "source": [
    "# Diagnostics: LM test"
   ]
  },
  {
   "cell_type": "code",
   "execution_count": 7,
   "metadata": {},
   "outputs": [
    {
     "data": {
      "text/html": [
       "<div>\n",
       "<style scoped>\n",
       "    .dataframe tbody tr th:only-of-type {\n",
       "        vertical-align: middle;\n",
       "    }\n",
       "\n",
       "    .dataframe tbody tr th {\n",
       "        vertical-align: top;\n",
       "    }\n",
       "\n",
       "    .dataframe thead th {\n",
       "        text-align: right;\n",
       "    }\n",
       "</style>\n",
       "<table border=\"1\" class=\"dataframe\">\n",
       "  <thead>\n",
       "    <tr style=\"text-align: right;\">\n",
       "      <th></th>\n",
       "      <th>lb_stat</th>\n",
       "      <th>lb_pvalue</th>\n",
       "    </tr>\n",
       "  </thead>\n",
       "  <tbody>\n",
       "    <tr>\n",
       "      <th>1</th>\n",
       "      <td>0.195518</td>\n",
       "      <td>NaN</td>\n",
       "    </tr>\n",
       "    <tr>\n",
       "      <th>2</th>\n",
       "      <td>3.711607</td>\n",
       "      <td>NaN</td>\n",
       "    </tr>\n",
       "    <tr>\n",
       "      <th>3</th>\n",
       "      <td>3.716337</td>\n",
       "      <td>0.053882</td>\n",
       "    </tr>\n",
       "    <tr>\n",
       "      <th>4</th>\n",
       "      <td>4.717014</td>\n",
       "      <td>0.094561</td>\n",
       "    </tr>\n",
       "    <tr>\n",
       "      <th>5</th>\n",
       "      <td>6.213729</td>\n",
       "      <td>0.101662</td>\n",
       "    </tr>\n",
       "    <tr>\n",
       "      <th>6</th>\n",
       "      <td>10.906579</td>\n",
       "      <td>0.027634</td>\n",
       "    </tr>\n",
       "    <tr>\n",
       "      <th>7</th>\n",
       "      <td>11.203187</td>\n",
       "      <td>0.047497</td>\n",
       "    </tr>\n",
       "    <tr>\n",
       "      <th>8</th>\n",
       "      <td>11.530703</td>\n",
       "      <td>0.073295</td>\n",
       "    </tr>\n",
       "    <tr>\n",
       "      <th>9</th>\n",
       "      <td>11.867338</td>\n",
       "      <td>0.105007</td>\n",
       "    </tr>\n",
       "    <tr>\n",
       "      <th>10</th>\n",
       "      <td>12.703679</td>\n",
       "      <td>0.122460</td>\n",
       "    </tr>\n",
       "  </tbody>\n",
       "</table>\n",
       "</div>"
      ],
      "text/plain": [
       "      lb_stat  lb_pvalue\n",
       "1    0.195518        NaN\n",
       "2    3.711607        NaN\n",
       "3    3.716337   0.053882\n",
       "4    4.717014   0.094561\n",
       "5    6.213729   0.101662\n",
       "6   10.906579   0.027634\n",
       "7   11.203187   0.047497\n",
       "8   11.530703   0.073295\n",
       "9   11.867338   0.105007\n",
       "10  12.703679   0.122460"
      ]
     },
     "execution_count": 7,
     "metadata": {},
     "output_type": "execute_result"
    }
   ],
   "source": [
    "import statsmodels.api as sm\n",
    "sres=fitgjrgarch11.std_resid\n",
    "sressq=pow(sres,2)\n",
    "sm.stats.diagnostic.acorr_ljungbox(sressq,lags=10,model_df=2,return_df=True)"
   ]
  },
  {
   "cell_type": "markdown",
   "metadata": {
    "slideshow": {
     "slide_type": "slide"
    }
   },
   "source": [
    "# Diagnostics QQ plot"
   ]
  },
  {
   "cell_type": "code",
   "execution_count": 8,
   "metadata": {
    "scrolled": true
   },
   "outputs": [
    {
     "data": {
      "text/plain": [
       "Jarque_beraResult(statistic=258.1049423571817, pvalue=0.0)"
      ]
     },
     "execution_count": 8,
     "metadata": {},
     "output_type": "execute_result"
    },
    {
     "data": {
      "image/png": "[encoded data removed]",
      "text/plain": [
       "<Figure size 432x288 with 1 Axes>"
      ]
     },
     "metadata": {
      "needs_background": "light"
     },
     "output_type": "display_data"
    }
   ],
   "source": [
    "qq=sm.qqplot(sres,line='45')\n",
    "qq.show()\n",
    "import scipy \n",
    "scipy.stats.jarque_bera(sres)"
   ]
  },
  {
   "cell_type": "markdown",
   "metadata": {
    "slideshow": {
     "slide_type": "slide"
    }
   },
   "source": [
    "# News impact curve\n",
    "\n",
    "- Plots $\\sigma_t$ as a function of $u^2_{t-1}$ setting $\\sigma^2_{t-1},\\sigma^2_{t-2},\\dots$ to the unconditional variance "
   ]
  },
  {
   "cell_type": "code",
   "execution_count": 9,
   "metadata": {},
   "outputs": [],
   "source": [
    "# Get required estimated GJR model coefficients\n",
    "a1GJ = fitgjrgarch11.params['alpha[1]']\n",
    "b1GJ = fitgjrgarch11.params['beta[1]']\n",
    "g1GJ = fitgjrgarch11.params['gamma[1]']\n",
    "a0GJ = fitgjrgarch11.params['omega']\n",
    "u = ret[1:,] - fitgjrgarch11.params['mu'] #Calculate innovations\n",
    "\n",
    "#Calculate values for NIC plot\n",
    "a = np.arange(min(u), max(u), 0.01) #Plot range\n",
    "sg = np.var(u) #sample variance of innovations\n",
    "nic_gjr = a0GJ + a1GJ * a**2 + b1GJ * sg + np.where(a < 0, g1GJ, 0)*(a**2) #asymmetric curve values\n",
    "\n"
   ]
  },
  {
   "cell_type": "markdown",
   "metadata": {
    "slideshow": {
     "slide_type": "slide"
    }
   },
   "source": [
    "# News Impact Curve"
   ]
  },
  {
   "cell_type": "code",
   "execution_count": 10,
   "metadata": {},
   "outputs": [
    {
     "data": {
      "image/png": "[encoded data removed]",
      "text/plain": [
       "<Figure size 1800x432 with 1 Axes>"
      ]
     },
     "metadata": {
      "needs_background": "light"
     },
     "output_type": "display_data"
    }
   ],
   "source": [
    "import matplotlib.pyplot as plt\n",
    "fig, axs = plt.subplots(figsize = (25,6))\n",
    "axs.plot(a, nic_gjr)\n",
    "axs.set_title('GJR NIC curve for a(t-1)', weight = 'bold')\n",
    "plt.show()"
   ]
  },
  {
   "cell_type": "markdown",
   "metadata": {
    "slideshow": {
     "slide_type": "slide"
    }
   },
   "source": [
    "# E-Garch\n",
    "\n",
    "- Shortcoming of GARCH is constraints on parameters to ensure positive variances.\n",
    "- To get around this issue E-GARCH models log volatility\n",
    "\n",
    "$$log(\\sigma_t^2)=\\alpha_0+\\sum_{i=1}^p\\alpha_i(|e_{t-i}|-\\sqrt{2\\pi})+\\sum_{i=1}^o\\gamma_ie_{t-i}+\\sum^q_{j=1}\\beta_jlog(\\sigma^2_{t-j})$$\n",
    "\n",
    "- You will find other notation in different sources, this closely matches that used in the [arch Python package](https://arch.readthedocs.io/en/latest/univariate/generated/arch.univariate.EGARCH.html).\n",
    "- Note that $e_t=u_t/\\sigma_t$ and $\\sqrt{2\\pi}$ is the expected value of $|\\epsilon_t|$ if $\\epsilon_t$ is normal."
   ]
  },
  {
   "cell_type": "markdown",
   "metadata": {
    "slideshow": {
     "slide_type": "slide"
    }
   },
   "source": [
    "# In Python"
   ]
  },
  {
   "cell_type": "code",
   "execution_count": 11,
   "metadata": {
    "scrolled": true
   },
   "outputs": [
    {
     "name": "stdout",
     "output_type": "stream",
     "text": [
      "Iteration:      1,   Func. Count:      7,   Neg. LLF: 8.889584945856823e+18\n",
      "Iteration:      2,   Func. Count:     20,   Neg. LLF: 1079247366929.2538\n",
      "Iteration:      3,   Func. Count:     30,   Neg. LLF: 511533471218.6262\n",
      "Iteration:      4,   Func. Count:     41,   Neg. LLF: 136373535001.35631\n",
      "Iteration:      5,   Func. Count:     51,   Neg. LLF: -3355.3792262444904\n",
      "Iteration:      6,   Func. Count:     58,   Neg. LLF: 4672.029802712047\n",
      "Iteration:      7,   Func. Count:     67,   Neg. LLF: -3363.595174746533\n",
      "Iteration:      8,   Func. Count:     74,   Neg. LLF: -3363.975482507693\n",
      "Iteration:      9,   Func. Count:     80,   Neg. LLF: -3363.976214143844\n",
      "Iteration:     10,   Func. Count:     86,   Neg. LLF: -3363.9762223109774\n",
      "Iteration:     11,   Func. Count:     92,   Neg. LLF: -3363.976223087476\n",
      "Optimization terminated successfully    (Exit mode 0)\n",
      "            Current function value: -3363.976223087476\n",
      "            Iterations: 11\n",
      "            Function evaluations: 92\n",
      "            Gradient evaluations: 11\n",
      "                     Constant Mean - EGARCH Model Results                     \n",
      "==============================================================================\n",
      "Dep. Variable:                  Close   R-squared:                      -0.000\n",
      "Mean Model:             Constant Mean   Adj. R-squared:                 -0.000\n",
      "Vol Model:                     EGARCH   Log-Likelihood:                3363.98\n",
      "Distribution:                  Normal   AIC:                          -6717.95\n",
      "Method:            Maximum Likelihood   BIC:                          -6692.23\n",
      "                                        No. Observations:                 1267\n",
      "Date:                Thu, Apr 14 2022   Df Residuals:                     1262\n",
      "Time:                        09:04:05   Df Model:                            5\n",
      "                                  Mean Model                                 \n",
      "=============================================================================\n",
      "                 coef    std err          t      P>|t|       95.0% Conf. Int.\n",
      "-----------------------------------------------------------------------------\n",
      "mu         2.3323e-05  4.239e-04  5.502e-02      0.956 [-8.075e-04,8.541e-04]\n",
      "                              Volatility Model                             \n",
      "===========================================================================\n",
      "                 coef    std err          t      P>|t|     95.0% Conf. Int.\n",
      "---------------------------------------------------------------------------\n",
      "omega         -0.0957  5.565e-02     -1.720  8.548e-02  [ -0.205,1.337e-02]\n",
      "alpha[1]       0.1014  3.293e-02      3.079  2.076e-03  [3.685e-02,  0.166]\n",
      "gamma[1]      -0.0720  2.476e-02     -2.909  3.627e-03 [ -0.121,-2.349e-02]\n",
      "beta[1]        0.9876  7.022e-03    140.648      0.000    [  0.974,  1.001]\n",
      "===========================================================================\n",
      "\n",
      "Covariance estimator: robust\n"
     ]
    }
   ],
   "source": [
    "fitegarch11 = arch_model( ret[1:], mean='Constant', vol='EGARCH', p=1, q=1, o=1 ).fit()\n",
    "print( fitegarch11.summary() )"
   ]
  },
  {
   "cell_type": "markdown",
   "metadata": {
    "slideshow": {
     "slide_type": "slide"
    }
   },
   "source": [
    "# NIC curve"
   ]
  },
  {
   "cell_type": "code",
   "execution_count": 12,
   "metadata": {},
   "outputs": [],
   "source": [
    "sig = fitegarch11.conditional_volatility #infer the conditional standard deviations\n",
    "e= u / sig\n",
    "\n",
    "alpha = fitegarch11.params['alpha[1]'] #parameter in front of |e(t-1)|\n",
    "gamma = fitegarch11.params['gamma[1]'] #asymmetric parameter, in front of e(t-1)\n",
    "beta = fitgarch11.params['beta[1]']\n",
    "omega = fitgarch11.params['omega']\n",
    "\n",
    "egrid = np.arange(e.min(), e.max(), 0.01)\n",
    "nic_e = np.exp(omega+alpha*(abs(egrid)-np.sqrt(2/np.pi))+gamma*egrid+beta*np.log(sg))\n",
    "\n"
   ]
  },
  {
   "cell_type": "markdown",
   "metadata": {
    "slideshow": {
     "slide_type": "slide"
    }
   },
   "source": [
    "# Plot"
   ]
  },
  {
   "cell_type": "code",
   "execution_count": 13,
   "metadata": {},
   "outputs": [
    {
     "data": {
      "image/png": "[encoded data removed]",
      "text/plain": [
       "<Figure size 1800x432 with 1 Axes>"
      ]
     },
     "metadata": {
      "needs_background": "light"
     },
     "output_type": "display_data"
    }
   ],
   "source": [
    "fig, axs = plt.subplots(figsize = (25,6))\n",
    "axs.plot(egrid, nic_e)\n",
    "plt.show()"
   ]
  },
  {
   "cell_type": "markdown",
   "metadata": {
    "slideshow": {
     "slide_type": "slide"
    }
   },
   "source": [
    "# EWMA\n",
    "\n",
    "- Not all extensions to GARCH models make things more complicated.\n",
    "- A popular approach is the exponentially weighted moving average (EWMA)\n",
    "\n",
    "$$\\sigma_t^2=\\lambda\\sigma^2_{t-1}+(1-\\lambda)u^2_{t-1}$$\n",
    "\n",
    "- This is a GARCH(1,1) with the constraint that $\\alpha_0=0$ $\\alpha_1+\\beta_1=1$.\n",
    "- Developed by J.P.Morgan in the 1989 who set $\\lambda=0.94$ (other values can be used).\n",
    "- Estimation difficult since model is non-stationary."
   ]
  },
  {
   "cell_type": "markdown",
   "metadata": {
    "slideshow": {
     "slide_type": "slide"
    }
   },
   "source": [
    "# Fitting EWMA"
   ]
  },
  {
   "cell_type": "code",
   "execution_count": 14,
   "metadata": {},
   "outputs": [
    {
     "name": "stdout",
     "output_type": "stream",
     "text": [
      "Iteration:      1,   Func. Count:      3,   Neg. LLF: 20712930783.50821\n",
      "Iteration:      2,   Func. Count:     12,   Neg. LLF: -3341.560746545524\n",
      "Iteration:      3,   Func. Count:     13,   Neg. LLF: -3341.560746551215\n",
      "Optimization terminated successfully    (Exit mode 0)\n",
      "            Current function value: -3341.560746545524\n",
      "            Iterations: 3\n",
      "            Function evaluations: 13\n",
      "            Gradient evaluations: 3\n",
      "                Constant Mean - EWMA/RiskMetrics Model Results                \n",
      "==============================================================================\n",
      "Dep. Variable:                  Close   R-squared:                      -0.001\n",
      "Mean Model:             Constant Mean   Adj. R-squared:                 -0.001\n",
      "Vol Model:           EWMA/RiskMetrics   Log-Likelihood:                3341.56\n",
      "Distribution:                  Normal   AIC:                          -6681.12\n",
      "Method:            Maximum Likelihood   BIC:                          -6675.98\n",
      "                                        No. Observations:                 1267\n",
      "Date:                Thu, Apr 14 2022   Df Residuals:                     1266\n",
      "Time:                        09:04:05   Df Model:                            1\n",
      "                                  Mean Model                                 \n",
      "=============================================================================\n",
      "                 coef    std err          t      P>|t|       95.0% Conf. Int.\n",
      "-----------------------------------------------------------------------------\n",
      "mu         5.5219e-04  5.680e-04      0.972      0.331 [-5.611e-04,1.666e-03]\n",
      "=============================================================================\n",
      "\n",
      "Covariance estimator: robust\n"
     ]
    }
   ],
   "source": [
    "from arch.univariate import EWMAVariance, ConstantMean\n",
    "ewma = ConstantMean(ret[1:])\n",
    "ewma.volatility = EWMAVariance(0.94)\n",
    "fitewma = ewma.fit()\n",
    "print( fitewma.summary() )"
   ]
  },
  {
   "cell_type": "markdown",
   "metadata": {
    "slideshow": {
     "slide_type": "slide"
    }
   },
   "source": [
    "# Wrap up\n",
    "\n",
    "- Many extensions to ARCH\n",
    "  + Allow dependence \n",
    "  + Leverage effect\n",
    "  + Deal with variances being positive\n",
    "- At the other end of the spectrum - EWMA\n",
    "- Can compare by AIC or forecasting performance"
   ]
  }
 ],
 "metadata": {
  "celltoolbar": "Slideshow",
  "kernelspec": {
   "display_name": "Python 3",
   "language": "python",
   "name": "python3"
  },
  "language_info": {
   "codemirror_mode": {
    "name": "ipython",
    "version": 3
   },
   "file_extension": ".py",
   "mimetype": "text/x-python",
   "name": "python",
   "nbconvert_exporter": "python",
   "pygments_lexer": "ipython3",
   "version": "3.8.5"
  },
  "rise": {
   "autolaunch": true,
   "enable_chalkboard": true,
   "scroll": true,
   "start_slideshow_at": "beginning"
  }
 },
 "nbformat": 4,
 "nbformat_minor": 4
}
