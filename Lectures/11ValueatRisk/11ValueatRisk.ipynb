{
 "cells": [
  {
   "cell_type": "code",
   "execution_count": 1,
   "metadata": {
    "slideshow": {
     "slide_type": "skip"
    }
   },
   "outputs": [],
   "source": [
    "import warnings\n",
    "warnings.filterwarnings('ignore')"
   ]
  },
  {
   "cell_type": "markdown",
   "metadata": {
    "slideshow": {
     "slide_type": "slide"
    }
   },
   "source": [
    "<h1 style = \"fontsize:400%;text-align:center;\">QBUS3850: Time Series and Forecasting</h1>\n",
    "<h2 style = \"fontsize:300%;text-align:center;\">Value at Risk</h2>\n",
    "<h3 style = \"fontsize:200%;text-align:center;\">Lecture Notes</h3>"
   ]
  },
  {
   "cell_type": "markdown",
   "metadata": {
    "slideshow": {
     "slide_type": "slide"
    }
   },
   "source": [
    "<h2 style = \"fontsize:300%;text-align:center;\">Risk Measures</h2>"
   ]
  },
  {
   "cell_type": "markdown",
   "metadata": {
    "slideshow": {
     "slide_type": "slide"
    }
   },
   "source": [
    "# Value at Risk\n",
    "\n",
    "- So far we have considered volatility (i.e. standard deviation/variance) as a measure of the riskiness of a stock.\n",
    "- This is not the only measure of risk.\n",
    "- In the 1990s, JP Morgan popularised another measure of risk known as Value at Risk.\n",
    "- The Basel II banking accords made VaR the preferred measure of market risk"
   ]
  },
  {
   "cell_type": "markdown",
   "metadata": {
    "slideshow": {
     "slide_type": "subslide"
    }
   },
   "source": [
    "# VAR v VaR\n",
    "\n",
    "- In this course we have already used VAR to denote a **V**ector **A**uto**R**egression.\n",
    "- This is totally unrelated to **V**alue **a**t **R**isk.\n",
    "- We use a lower case \"a\" in the risk measure.\n",
    "- Try not to mix these up."
   ]
  },
  {
   "cell_type": "markdown",
   "metadata": {
    "slideshow": {
     "slide_type": "slide"
    }
   },
   "source": [
    "# What is VaR?\n",
    "\n",
    "- Consider large negative returns (losses).\n",
    "- Consider a 1 in 20, 1 in 100, or 1 in 1000 \"bad\" day.\n",
    "- What is the minimum loss on such a day?\n",
    "- This is the Value at Risk.\n",
    "- Statistically it is just a quantile."
   ]
  },
  {
   "cell_type": "markdown",
   "metadata": {
    "slideshow": {
     "slide_type": "slide"
    }
   },
   "source": [
    "# Definition\n",
    "\n",
    "- The h-step ahead VaR at a level $\\alpha$ is given by \n",
    "\n",
    "$$\\textrm{VaR}_{t+h|t}^{(\\alpha)}=q:\\textrm{Pr}(r_{t+h}<q|\\mathcal{F}_t)=\\alpha$$\n",
    "\n",
    "- Where $r_{t+h}$ is the return (as a random variable) and $\\mathcal{F}_t$ is all data up to and including time $t$."
   ]
  },
  {
   "cell_type": "markdown",
   "metadata": {
    "slideshow": {
     "slide_type": "slide"
    }
   },
   "source": [
    "# How do we estimate it?\n",
    "\n",
    "- Non-parametrically (i.e. without a model)\n",
    "  - In the finance context this is called *Historical Simulation*\n",
    "- Parametrically (i.e. with a model and full distributional assumptions)\n",
    "  - This is where ARCH/ GARCH/ EGARCH etc. can be used\n",
    "- Semi-parametrically (i.e. with a model but no distributional assumption)\n",
    "  - Quantile Regression\n",
    "- The terms (semi/non)-parametric may mean different things in other contexts."
   ]
  },
  {
   "cell_type": "markdown",
   "metadata": {
    "slideshow": {
     "slide_type": "slide"
    }
   },
   "source": [
    "<h2 style = \"fontsize:300%;text-align:center;\">Estimating VaR</h2>"
   ]
  },
  {
   "cell_type": "markdown",
   "metadata": {
    "slideshow": {
     "slide_type": "slide"
    }
   },
   "source": [
    "# Historical Simulation\n",
    "\n",
    "- Simply find the sample quantile of returns data over some past period.\n",
    "- Can use the full data, or the last $d$ observations where a common choice is $d=250$\n",
    "- Effectively assumes a constant variance over the past $d$ periods, \n",
    "  - Since the estimate is refreshed with new data, VaR based on historical simulation will still vary over time.\n"
   ]
  },
  {
   "cell_type": "markdown",
   "metadata": {
    "slideshow": {
     "slide_type": "slide"
    }
   },
   "source": [
    "# Parametric Method\n",
    "\n",
    "- Naive model is to assume $r_t\\overset{i.i.d.}{\\sim}N(\\mu,\\sigma^2)$\n",
    "- In this case the VaR is given by \n",
    "\n",
    "$$\\textrm{VaR}_{t+h|t}^{(\\alpha)}=\\hat{\\mu}+\\Phi^{-1}(\\alpha)\\hat{\\sigma}$$\n",
    "\n",
    "where $\\Phi^{-1}(.)$ is the inverse cdf of the normal. Similar expressions can be derived for other distributions."
   ]
  },
  {
   "cell_type": "markdown",
   "metadata": {
    "slideshow": {
     "slide_type": "slide"
    }
   },
   "source": [
    "# Using models\n",
    "\n",
    "- Alternatively if we have a model for conditional mean and voliatility we can adjust the same formula to\n",
    "\n",
    "$$\\textrm{VaR}_{t+h|t}^{(\\alpha)}=\\hat{\\mu}_{t+h|t}+\\Phi^{-1}(\\alpha)\\hat{\\sigma}_{t+h|t}$$\n",
    "\n",
    "where $\\hat{\\mu}_{t+h|t}$ is the forecast mean and $\\hat{\\sigma}_{t+h|t}$ is the forecast standard deviation."
   ]
  },
  {
   "cell_type": "markdown",
   "metadata": {
    "slideshow": {
     "slide_type": "slide"
    }
   },
   "source": [
    "# Semi parametric method\n",
    "\n",
    "- This is based on quantile regression.\n",
    "- What is quantile regression?\n",
    "- Need to understand the realtionships between loss functions, means and quantiles.\n",
    "- First consider the case with just an intercept."
   ]
  },
  {
   "cell_type": "markdown",
   "metadata": {
    "slideshow": {
     "slide_type": "slide"
    }
   },
   "source": [
    "# Regression\n",
    "\n",
    "- Least squares regression minimises squared loss.\n",
    "- With only an intercept this is\n",
    "\n",
    "$$\\hat{\\mu}=\\underset{\\mu}{argmin}\\sum^n_{i=1}(y_i-\\mu)^2$$\n",
    "\n",
    "- Using squared error loss gives an estimate (the sample mean) that has good properties as an estimator of the expected value.\n",
    "- If we replace $\\mu$ with $\\beta_0+\\beta_1x_1+\\dots+\\beta_px_p$ we have a regression model."
   ]
  },
  {
   "cell_type": "markdown",
   "metadata": {
    "slideshow": {
     "slide_type": "slide"
    }
   },
   "source": [
    "# Absolute Loss\n",
    "\n",
    "- What if we use absolute rather than squared losses?\n",
    "\n",
    "$$\\hat{\\mu}=\\underset{\\mu}{argmin}\\sum^n_{i=1}|y_i-\\mu|$$\n",
    "\n",
    "- This time $\\hat{\\mu}$ will be the sample *median*.\n",
    "- This is a good estimate of the 50th percentile.\n",
    "- The $\\mu$ can be replaced with $\\beta_0+\\beta_1x_1+\\dots+\\beta_px_p$ - this is known as robust regression."
   ]
  },
  {
   "cell_type": "markdown",
   "metadata": {
    "slideshow": {
     "slide_type": "slide"
    }
   },
   "source": [
    "# Check loss\n",
    "\n",
    "- For a quantile $\\alpha$ consider\n",
    "\n",
    "$$\\hat{\\mu}=\\underset{\\mu}{argmin}\\sum^n_{i=1}\\alpha I(y_t>\\mu) |y_t-\\mu|+(1-\\alpha) I(y_t<\\mu) |y_t-\\mu|$$\n",
    "\n",
    "where I(.) equals 1 if the statement in parentheses is true and 0 otherwise.\n",
    "\n",
    "- This time $\\hat{\\mu}$ will be an estimate of the $\\alpha$-percentile\n",
    "- The $\\mu$ can be replaced with $\\beta_0+\\beta_1x_1+\\dots+\\beta_px_p$.\n",
    "- This is called quantile regression."
   ]
  },
  {
   "cell_type": "markdown",
   "metadata": {
    "slideshow": {
     "slide_type": "slide"
    }
   },
   "source": [
    "# Back to VaR\n",
    "\n",
    "- Engle and Manganelli (2004) propose the CaViaR model\n",
    "\n",
    "$$Q_t=\\phi_0+\\phi_1Q_{t-1}+\\phi_2|r_{t-1}|$$\n",
    "\n",
    "- Where $\\phi_0,\\phi_1$ and $\\phi_2$ are found by\n",
    "\n",
    "$$\\sum^T_{i=1}\\alpha (1-I_t)\n",
    "|r_t-\\phi_0+\\phi_1Q_{t-1}+\\phi_2|r_{t-1}||+(1-\\alpha) \n",
    "I_t|r_t-\\phi_0+\\phi_1Q_{t-1}+\\phi_2|r_{t-1}||$$\n",
    " \n",
    "where $I_t=I(y_t<\\mu)$ and $r_t$ are returns\n",
    "\n",
    "- Other specifications proposed in same paper."
   ]
  },
  {
   "cell_type": "markdown",
   "metadata": {
    "slideshow": {
     "slide_type": "slide"
    }
   },
   "source": [
    "<h2 style = \"fontsize:300%;text-align:center;\">Evaluating VaR</h2>"
   ]
  },
  {
   "cell_type": "markdown",
   "metadata": {
    "slideshow": {
     "slide_type": "slide"
    }
   },
   "source": [
    "# Loss Function\n",
    "\n",
    "- We usually comapare forecasts of different methods/models using RMSE or MAE.\n",
    "- Can you think of a loss function that can be used to evaluate VaR?"
   ]
  },
  {
   "cell_type": "markdown",
   "metadata": {
    "slideshow": {
     "slide_type": "fragment"
    }
   },
   "source": [
    "- We can use the Check loss function"
   ]
  },
  {
   "cell_type": "markdown",
   "metadata": {
    "slideshow": {
     "slide_type": "slide"
    }
   },
   "source": [
    "# Check loss\n",
    "\n",
    "Check loss has two parts.\n",
    "\n",
    "$$\\alpha I(r_t>\\mu) |r_t-\\mu|+(1-\\alpha) I(r_t<\\mu) |r_t-\\mu|$$\n",
    "\n",
    "Consider if $\\alpha=0.05$\n",
    "\n",
    "- If $I(r_t>\\mu)$ (first part of sum above) the error is multiplied by a small number.\n",
    "- If $I(r_t<\\mu)$ (second part of sum above) the error is multiplied by a large number.  "
   ]
  },
  {
   "cell_type": "markdown",
   "metadata": {
    "slideshow": {
     "slide_type": "slide"
    }
   },
   "source": [
    "# Backtesting\n",
    "\n",
    "- Check loss will indicate which model is best\n",
    "- But what if all models are bad?\n",
    "- What does it mean to have an objectively good or bad VaR forecast?\n",
    "- We might look for two properties regarding violations, i.e. return less than VaR ($I_t=1$)\n",
    "  - Violations occur at the correct rate\n",
    "  - Violations are unpredictable (i.e. not correlated over time)."
   ]
  },
  {
   "cell_type": "markdown",
   "metadata": {
    "slideshow": {
     "slide_type": "slide"
    }
   },
   "source": [
    "# Backtesting\n",
    "\n",
    "- There are a number of ways to test whether these two properties hold\n",
    "- Collectively these are known as *backtesting*.\n",
    "  - They involve hypothesis tests\n",
    "  - They are usually carried out using forecasts obtained from a rolling window evaluation."
   ]
  },
  {
   "cell_type": "markdown",
   "metadata": {
    "slideshow": {
     "slide_type": "slide"
    }
   },
   "source": [
    "# Testing Violation Rate\n",
    "\n",
    "- Consider the time series of violations $I_t=I(r_t<VaR_{t|t-h}^{\\alpha})$ that can be constructed via a rolling window evaluation period of size $T_{\\textrm{eval}}$.\n",
    "- If VaR is correctly calibrated then $\\textrm{Pr}(I_t=1)=\\alpha$.\n",
    "- This means that the proportion of violations asymptotically follows\n",
    "\n",
    "$$\\frac{\\sum I_t/T_{\\textrm{eval}}-\\alpha}{\\sqrt{\\alpha(1-\\alpha)/T_{\\textrm{eval}}}}\\sim N\\left(0,1\\right)$$\n",
    "\n",
    "- This can be used to test the null that the VaR forecasts achieve the desired violation rate."
   ]
  },
  {
   "cell_type": "markdown",
   "metadata": {
    "slideshow": {
     "slide_type": "slide"
    }
   },
   "source": [
    "# Christoffersen test\n",
    "\n",
    "- The Christoffersen (1998) test tests the null that violations are independent against an alternative that violations are an order 1 Markov process.\n",
    "- Order 1 Markov means that \n",
    "\n",
    "$$\\textrm{Pr}(I_t=1|I_{t-1},I_{t-2},\\dots)=\\textrm{Pr}(I_t=1|I_{t-1})$$\n",
    "\n",
    "- The order 1 Markov process requires four probabilities that need to be estimated\n",
    "\n",
    "$\\delta_{11}=\\textrm{Pr}(I_t=1|I_{t-1}=1)\\,,\\delta_{01}=\\textrm{Pr}(I_t=1|I_{t-1}=0)\\,,\\delta_{10}=\\textrm{Pr}(I_t=0|I_{t-1}=1),\\quad\\quad\\delta_{00}=\\textrm{Pr}(I_t=0|I_{t-1}=0)$\n",
    "\n",
    "- This is tested against an independent model where $\\delta_{01}=\\delta_{11}=\\alpha_1$ and $\\delta_{00}=\\delta_{10}=1-\\alpha_1$\n",
    "\n"
   ]
  },
  {
   "cell_type": "markdown",
   "metadata": {
    "slideshow": {
     "slide_type": "slide"
    }
   },
   "source": [
    "# Christoffersen test\n",
    "\n",
    "- The likelihood ratio test can be used. Constained and unconstrained models are estimated by maximum likelihood.\n",
    "- Maximum likelihood estimates are found by $\\hat{\\delta}_{jk}=m_{jk}/T_\\textrm{eval}$ \n",
    "- Here $m_{11}$ equals the number of times a violation is followed by another violation, $m_{jk}$ similarly defined. Test statistic is\n",
    "\n",
    "$$LR=-2(lnL_{u}-lnL_{r})\\sim \\chi^2_1$$\n",
    "\n",
    "- Where $lnL_{u}=m_{11}ln(\\hat{\\delta}_{11})+m_{10}ln(\\hat{\\delta}_{10})+m_{01}ln(\\hat{\\delta}_{01})+m_{00}ln(\\hat{\\delta}_{00})$ and $lnL_{r}=m_{1}ln(\\hat{\\alpha}_1)+m_{0}ln(1-\\hat{\\alpha}_1)$\n",
    "- Null is that violations are independent.\n"
   ]
  },
  {
   "cell_type": "markdown",
   "metadata": {
    "slideshow": {
     "slide_type": "slide"
    }
   },
   "source": [
    "# Dynamic Quantile (DQ) Test\n",
    "\n",
    "- The Christoffsen test can lack power (especially for small $\\alpha$ when the number of violations is small.\n",
    "- Problems arise when there are no violations followed by other violations.\n",
    "- An alternative dynamic quantile test (also proposed by Engle and Manganelli (2004)) is more powerful.\n",
    "- Everything can be done in a regression framwork."
   ]
  },
  {
   "cell_type": "markdown",
   "metadata": {
    "slideshow": {
     "slide_type": "slide"
    }
   },
   "source": [
    "# Dynamic Quantile (DQ) Test\n",
    "\n",
    "- Construct a variable $\\textrm{Hit}_t=I_t-\\alpha$. Consider the regression\n",
    "\n",
    "$$\\textrm{Hit}_t=\\beta_0+\\sum\\limits_{k=1}^K\\beta_k \\textrm{Hit}_{t-k}+\\beta_{K+1}VaR^{(\\alpha)}_{t|t-h}+\\epsilon$$\n",
    "\n",
    "- Null hypothesis is that $\\beta_0=\\beta_1=\\dots=\\beta_{K+1}=0$. This is equivalent to hits being independently sized and occuring with probability $\\alpha$\n",
    "- This can be tested with a Wald-test (similar to an F test)"
   ]
  },
  {
   "cell_type": "markdown",
   "metadata": {
    "slideshow": {
     "slide_type": "slide"
    }
   },
   "source": [
    "# Dynamic Quantile (DQ) Test\n",
    "\n",
    "\n",
    "Set\n",
    "\n",
    "$$y=\\begin{pmatrix}\\textrm{Hit}_{K+1}\\\\\\vdots\\\\\\textrm{Hit}_{T_\\textrm{eval}}\\end{pmatrix}\\,\\,\\textrm{and}\\,\\,\n",
    "X=\\begin{pmatrix}1& \\textrm{Hit}_{K} & \\textrm{Hit}_{K-1}&\\cdots & \\textrm{Hit}_{1} & VaR^{(\\alpha)}_K\\\\\n",
    "\\vdots & \\vdots & \\vdots &\\vdots & \\vdots & \\vdots\\\\\n",
    "1& \\textrm{Hit}_{T_\\textrm{eval}-1} & \\textrm{Hit}_{T_\\textrm{eval}-2}&\\cdots & \\textrm{Hit}_{T_\\textrm{eval}-K} & VaR^{(\\alpha)}_{T_\\textrm{eval}-1}\n",
    "\\end{pmatrix}$$\n",
    "\n",
    "Test statistic is\n",
    "\n",
    "$$DQ=\\frac{y'X'(X'X)^{-1}Xy}{\\alpha(1-\\alpha)}\\sim \\chi^2_{K+2}$$\n",
    "\n",
    "Common choice is $K=4$"
   ]
  },
  {
   "cell_type": "markdown",
   "metadata": {
    "slideshow": {
     "slide_type": "slide"
    }
   },
   "source": [
    "<h2 style = \"fontsize:300%;text-align:center;\">Application</h2>"
   ]
  },
  {
   "cell_type": "markdown",
   "metadata": {
    "slideshow": {
     "slide_type": "slide"
    }
   },
   "source": [
    "# Application\n",
    "\n",
    "- Consider the BHP data (again...)\n",
    "- Use historical simulation (window of 250) and a GARCH(1,1) model with normal residuals.\n",
    "- Consider $\\alpha=0.05$ VaR\n",
    "- Evaluate using the last $T_{\\textrm{eval}}=300$ observations."
   ]
  },
  {
   "cell_type": "markdown",
   "metadata": {
    "slideshow": {
     "slide_type": "slide"
    }
   },
   "source": [
    "# Import data"
   ]
  },
  {
   "cell_type": "code",
   "execution_count": 2,
   "metadata": {
    "slideshow": {
     "slide_type": "-"
    }
   },
   "outputs": [],
   "source": [
    "import pandas as pd\n",
    "import numpy as np\n",
    "bhp = pd.read_csv('BHP.AX.csv')\n",
    "bhp['Date'] = pd.to_datetime(bhp['Date'])\n",
    "ret=np.log(bhp['Close']).diff()[1:]\n",
    "from arch import arch_model\n",
    "Teval = 400\n",
    "alpha = 0.05\n",
    "HS_win = 250"
   ]
  },
  {
   "cell_type": "markdown",
   "metadata": {
    "slideshow": {
     "slide_type": "slide"
    }
   },
   "source": [
    "# Rolling Window"
   ]
  },
  {
   "cell_type": "code",
   "execution_count": 3,
   "metadata": {},
   "outputs": [],
   "source": [
    "VaR_HS = np.zeros(Teval)\n",
    "VaR_GARCH = np.zeros(Teval)\n",
    "for j in range(Teval):\n",
    "    ret_train = ret[:-Teval+j]\n",
    "    #Historical Simulation\n",
    "    VaR_HS[j] = np.percentile(ret_train.tail(HS_win),q=alpha*100)\n",
    "    #GARCH(1,1)\n",
    "    garch = arch_model(ret_train,mean='Constant',vol='GARCH',p=1,q=1)\n",
    "    garchfit=garch.fit(disp='off')\n",
    "    fc=garchfit.forecast(horizon = 1)\n",
    "    q = garch.distribution.ppf(alpha)\n",
    "    VaR_GARCH[j] = fc.mean['h.1'].tail(1) + np.sqrt(fc.variance['h.1'].tail(1)) * q\n",
    "    "
   ]
  },
  {
   "cell_type": "markdown",
   "metadata": {
    "slideshow": {
     "slide_type": "slide"
    }
   },
   "source": [
    "# Loss function"
   ]
  },
  {
   "cell_type": "code",
   "execution_count": 4,
   "metadata": {},
   "outputs": [
    {
     "name": "stdout",
     "output_type": "stream",
     "text": [
      "0.0725\n",
      "0.0575\n",
      "0.8984004092017148\n",
      "0.8299383160537852\n"
     ]
    }
   ],
   "source": [
    "Actual = ret.tail(Teval)\n",
    "viol_HS = np.mean(Actual<VaR_HS)\n",
    "print(viol_HS)\n",
    "viol_GARCH = np.mean(Actual<VaR_GARCH)\n",
    "print(viol_GARCH)\n",
    "Loss_HS = (1-alpha)*np.where(Actual<VaR_HS,VaR_HS-Actual,0.0)+alpha*np.where(Actual>VaR_HS,Actual-VaR_HS,0.0)\n",
    "Loss_GARCH = (1-alpha)*np.where(Actual<VaR_GARCH,VaR_GARCH-Actual,0.0)+alpha*np.where(Actual>VaR_GARCH,Actual-VaR_GARCH,0.0)\n",
    "print(np.sum(Loss_HS))\n",
    "print(np.sum(Loss_GARCH))"
   ]
  },
  {
   "cell_type": "markdown",
   "metadata": {
    "slideshow": {
     "slide_type": "slide"
    }
   },
   "source": [
    "# DQ Test (Python Function)"
   ]
  },
  {
   "cell_type": "code",
   "execution_count": 5,
   "metadata": {},
   "outputs": [],
   "source": [
    "import scipy.stats as stats\n",
    "def dqtest(y,f,a,lag):\n",
    "    n = len(y)\n",
    "    hits = ((y<f)*1)*(1-a)\n",
    "    hits = (hits)*1+(y>f)*(-a)\n",
    "    q=2+lag\n",
    "    \n",
    "    if np.sum((y<f)*1) > 0:\n",
    "        ns = n - lag\n",
    "        xmat = np.column_stack([np.ones((ns,1)), f[lag:n+1]])\n",
    "        for k in range(1,lag+1):\n",
    "            lk = lag-k\n",
    "            xmat = np.column_stack([xmat, hits[lk:n-k]])\n",
    "    \n",
    "        hx = np.dot((hits[lag:n+1]), xmat)\n",
    "        xtx = np.linalg.lstsq(np.matmul(xmat.T, xmat), np.eye(q), rcond = None)[0]\n",
    "        dq = np.dot(np.dot(hx, xtx), hx.T)\n",
    "        dq = dq/(a*(1-a))\n",
    "        pdq = 1 - stats.chi2.cdf(dq,q)\n",
    "    else:\n",
    "        pdq = np.nan\n",
    "        dq = np.nan\n",
    "    return pdq, dq"
   ]
  },
  {
   "cell_type": "markdown",
   "metadata": {
    "slideshow": {
     "slide_type": "slide"
    }
   },
   "source": [
    "# DQ Test"
   ]
  },
  {
   "cell_type": "code",
   "execution_count": 6,
   "metadata": {},
   "outputs": [
    {
     "name": "stdout",
     "output_type": "stream",
     "text": [
      "(0.0014043083944342838, 21.644281794492716)\n",
      "(0.062283215697564565, 11.985939377072487)\n"
     ]
    }
   ],
   "source": [
    "print(dqtest(Actual,VaR_HS,alpha,4))\n",
    "print(dqtest(Actual,VaR_GARCH,alpha,4))"
   ]
  },
  {
   "cell_type": "markdown",
   "metadata": {},
   "source": [
    "Reject null at 5% level of significance for HS but not for GARCH"
   ]
  },
  {
   "cell_type": "markdown",
   "metadata": {
    "slideshow": {
     "slide_type": "slide"
    }
   },
   "source": [
    "# Visualise"
   ]
  },
  {
   "cell_type": "code",
   "execution_count": 7,
   "metadata": {},
   "outputs": [
    {
     "data": {
      "text/plain": [
       "<matplotlib.collections.PathCollection at 0x7fe6ec0a9550>"
      ]
     },
     "execution_count": 7,
     "metadata": {},
     "output_type": "execute_result"
    },
    {
     "data": {
      "image/png": "[encoded data removed]",
      "text/plain": [
       "<Figure size 1800x432 with 2 Axes>"
      ]
     },
     "metadata": {
      "needs_background": "light"
     },
     "output_type": "display_data"
    }
   ],
   "source": [
    "import matplotlib.pyplot as plt\n",
    "fig, ax = plt.subplots(2,figsize= (25,6))\n",
    "ax[0].plot(bhp['Date'].tail(Teval),Actual)\n",
    "ax[1].plot(bhp['Date'].tail(Teval),Actual)\n",
    "ax[0].plot(bhp['Date'].tail(Teval),VaR_HS)\n",
    "ax[1].plot(bhp['Date'].tail(Teval),VaR_GARCH)\n",
    "ax[0].scatter(bhp['Date'].tail(Teval).loc[Actual<VaR_HS],VaR_HS[Actual<VaR_HS],marker='P',s=200)\n",
    "ax[1].scatter(bhp['Date'].tail(Teval).loc[Actual<VaR_GARCH],VaR_GARCH[Actual<VaR_GARCH],marker='X',s=200)"
   ]
  },
  {
   "cell_type": "markdown",
   "metadata": {
    "slideshow": {
     "slide_type": "slide"
    }
   },
   "source": [
    "# Wrap up\n",
    "\n",
    "- You now know how to compute and evaluate VaR. But there are criticisms of VaR\n",
    "  - Gives a false sense of security - statistical models do not capture 'Black Swan' events.\n",
    "  - VaR only gives an idea about violations and not about the size of the violation.\n",
    "  - VaR is not subadditive - adding VaR for different stocks can be higher than the VaR of a portflio.\n",
    "- We will discuss these issues (and some solutions) next week."
   ]
  }
 ],
 "metadata": {
  "celltoolbar": "Slideshow",
  "kernelspec": {
   "display_name": "Python 3",
   "language": "python",
   "name": "python3"
  },
  "language_info": {
   "codemirror_mode": {
    "name": "ipython",
    "version": 3
   },
   "file_extension": ".py",
   "mimetype": "text/x-python",
   "name": "python",
   "nbconvert_exporter": "python",
   "pygments_lexer": "ipython3",
   "version": "3.8.5"
  },
  "rise": {
   "autolaunch": true,
   "enable_chalkboard": true,
   "scroll": true,
   "start_slideshow_at": "beginning"
  }
 },
 "nbformat": 4,
 "nbformat_minor": 4
}
