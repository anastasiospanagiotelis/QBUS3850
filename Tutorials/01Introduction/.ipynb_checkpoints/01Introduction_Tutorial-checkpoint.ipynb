{
 "cells": [
  {
   "cell_type": "markdown",
   "metadata": {},
   "source": [
    "# QBUS3850 Lab 1 Tasks\n",
    "\n",
    "This tutorial will cover reading in data using pandas, understanding how dates and times work in Python and implementing an expanding window. The dataset that we will use is the electricity dataset from lectures (this can be found on Canvas). We will evaluate forecasts from simple exponential smoothing, Holt's method and the Holt Winters' additive method.\n",
    "\n",
    "## Data and data types\n",
    "\n",
    "1. Read the data from the file into a variable called `df`. \n",
    "2. Check the type of each variable by running `df.dtypes`. Is the variable `SETTLEMENTDATE` a datetime or an object? \n",
    "3. If it is an object, convert it to a datetime."
   ]
  },
  {
   "cell_type": "markdown",
   "metadata": {},
   "source": [
    "The function `read_csv()` can be used to read in the data, make sure that the file electricity.csv is in your working directory otherwise provide a full path to the file."
   ]
  },
  {
   "cell_type": "code",
   "execution_count": 1,
   "metadata": {},
   "outputs": [
    {
     "data": {
      "text/plain": [
       "REGION             object\n",
       "SETTLEMENTDATE     object\n",
       "TOTALDEMAND       float64\n",
       "RRP               float64\n",
       "PERIODTYPE         object\n",
       "dtype: object"
      ]
     },
     "execution_count": 1,
     "metadata": {},
     "output_type": "execute_result"
    }
   ],
   "source": [
    "import pandas as pd\n",
    "df = pd.read_csv('electricity.csv')\n",
    "df.dtypes\n"
   ]
  },
  {
   "cell_type": "markdown",
   "metadata": {},
   "source": [
    "By default, `read_csv()` has read in `SETTLEMENTDATE` as the same type as `REGION`, i.e. as a string and not a datetime. Sometimes we can add the argument `parse_dates=True` but that will not work in this case. Instead to coerce `SETTLEMENTDATE` to a datetime run the following:"
   ]
  },
  {
   "cell_type": "code",
   "execution_count": 2,
   "metadata": {},
   "outputs": [
    {
     "data": {
      "text/plain": [
       "REGION                    object\n",
       "SETTLEMENTDATE    datetime64[ns]\n",
       "TOTALDEMAND              float64\n",
       "RRP                      float64\n",
       "PERIODTYPE                object\n",
       "dtype: object"
      ]
     },
     "execution_count": 2,
     "metadata": {},
     "output_type": "execute_result"
    }
   ],
   "source": [
    "df['SETTLEMENTDATE'] = pd.to_datetime(df['SETTLEMENTDATE'])\n",
    "df.dtypes"
   ]
  },
  {
   "cell_type": "markdown",
   "metadata": {},
   "source": [
    "Note now that the data type of `SETTLEMENTDATE` is a datetime."
   ]
  },
  {
   "cell_type": "markdown",
   "metadata": {},
   "source": [
    "### Forecast exercise\n",
    "\n",
    "1. Using data from April 1, 00:30  to April 25, 00:00 as training data generate forecasts for the next 6 hours (12 half hour periods) using:\n",
    "  - Simple Exponential Smoothing\n",
    "  - Holt's Method\n",
    "  - Holt Winters' additive method\n",
    "2. Compute the squared error (i.e. $(y_{t+h}-\\hat{y}_{t+h})^2$) for each method at each horizon\n"
   ]
  },
  {
   "cell_type": "code",
   "execution_count": 3,
   "metadata": {},
   "outputs": [
    {
     "name": "stderr",
     "output_type": "stream",
     "text": [
      "/home/anastasios/anaconda3/lib/python3.8/site-packages/statsmodels/tsa/holtwinters/model.py:427: FutureWarning: After 0.13 initialization must be handled at model creation\n",
      "  warnings.warn(\n",
      "/home/anastasios/anaconda3/lib/python3.8/site-packages/statsmodels/tsa/holtwinters/model.py:920: ConvergenceWarning: Optimization failed to converge. Check mle_retvals.\n",
      "  warnings.warn(\n"
     ]
    },
    {
     "name": "stdout",
     "output_type": "stream",
     "text": [
      "     h           SES           Holt             HW\n",
      "0    1  3.610507e+04    3763.606543     264.570208\n",
      "1    2  9.428790e+04    2530.230144   14649.836518\n",
      "2    3  2.279140e+05    8564.493031   37767.913360\n",
      "3    4  4.493736e+05   24774.035755   46989.478791\n",
      "4    5  7.990632e+05   63933.553593   47745.020376\n",
      "5    6  1.016857e+06   57237.694216   48849.337901\n",
      "6    7  1.209457e+06   41009.149339    8757.172245\n",
      "7    8  1.299197e+06   13105.741806    6598.925882\n",
      "8    9  1.177645e+06    4657.589539   49315.704505\n",
      "9   10  1.088774e+06   56688.458486  143792.551138\n",
      "10  11  9.784837e+05  176778.394837  346867.561012\n",
      "11  12  7.638818e+05  440533.630875  573459.603995\n"
     ]
    }
   ],
   "source": [
    "#datetime needed to manipulate dates\n",
    "import datetime \n",
    "#numpy needed to work with vectors\n",
    "import numpy as np\n",
    "#statmodels needed for models\n",
    "from statsmodels.tsa.holtwinters import SimpleExpSmoothing, Holt, ExponentialSmoothing\n",
    "\n",
    "#longest horizon in half hour steps\n",
    "hmax = 12\n",
    "#full horizon as a time interval\n",
    "fullhor = datetime.timedelta(hours=hmax/2)\n",
    "#construct end of training period as datetime\n",
    "endtrain = datetime.datetime(2021,4,25,0,0)\n",
    "\n",
    "#Filter training data\n",
    "train = df[(df['SETTLEMENTDATE']<=endtrain)]\n",
    "#Filter test data\n",
    "test = df[(df['SETTLEMENTDATE']>endtrain) & (df['SETTLEMENTDATE']<=(endtrain+fullhor))]\n",
    "\n",
    "#Simple Exponential Smoothing\n",
    "#Specify model\n",
    "model = SimpleExpSmoothing(np.asarray(train['TOTALDEMAND']))\n",
    "#Fit Model\n",
    "fit_ses = model.fit()\n",
    "#Make forecasts\n",
    "fc_ses = fit_ses.forecast(hmax)\n",
    "#Compute square error\n",
    "sqerr_ses = np.square(fc_ses-np.asarray(test['TOTALDEMAND']))\n",
    "\n",
    "\n",
    "#Holt's Method (same steps as above)\n",
    "model = Holt(np.asarray(train['TOTALDEMAND']))\n",
    "fit_holt = model.fit()\n",
    "fc_holt = fit_holt.forecast(hmax)\n",
    "sqerr_holt = np.square(fc_holt-np.asarray(test['TOTALDEMAND']))\n",
    "\n",
    "#Holt Winters' Method  (same steps as above)\n",
    "model = ExponentialSmoothing(np.asarray(train['TOTALDEMAND']),trend='add',seasonal='add',seasonal_periods=48)\n",
    "fit_hw = model.fit()\n",
    "fc_hw = fit_hw.forecast(hmax)\n",
    "sqerr_hw = np.square(fc_hw-np.asarray(test['TOTALDEMAND']))\n",
    "\n",
    "#Initialise Results data frame\n",
    "res = pd.DataFrame()\n",
    "res['h']=pd.Series(range(1,hmax+1))\n",
    "res['SES']=pd.Series(sqerr_ses)\n",
    "res['Holt']=pd.Series(sqerr_holt)\n",
    "res['HW']=pd.Series(sqerr_hw)\n",
    "\n",
    "print(res)\n",
    "\n"
   ]
  },
  {
   "cell_type": "markdown",
   "metadata": {},
   "source": [
    "Some things to notice:\n",
    "\n",
    "- Holt Winters has the lowest square error at one step ahead\n",
    "- Holt has the lowest square error 12-steps  ahead\n",
    "- Simple exponential smoothing has the worst squared errors at all horizons\n",
    "- None of this is meaningful since we are only looking at a single instance of forecasts."
   ]
  },
  {
   "cell_type": "markdown",
   "metadata": {},
   "source": [
    "3. Repeat the same exercise but for an expanding window that expands one half hour at a time. Do this over 192 windows (i.e. four days). This will take a minute or two to run.\n",
    "4. Compute Root Mean Square Error (RMSE) given by $RMSE=\\sqrt{\\frac{1}{192}\\sum (y_{t+h}-\\hat{y}_{t+h})^2}$ over all windowsfort each forcasting horizon.\n",
    "5. Which method is the best at a one-step ahead horizon?\n",
    "6. Which method is the best at a twelve-step ahead horizon?\n"
   ]
  },
  {
   "cell_type": "code",
   "execution_count": 4,
   "metadata": {},
   "outputs": [
    {
     "name": "stdout",
     "output_type": "stream",
     "text": [
      "     h          SES         Holt           HW\n",
      "0    1   225.407014   121.783447    82.623442\n",
      "1    2   432.822524   289.729129   182.165547\n",
      "2    3   624.455166   517.519612   315.912502\n",
      "3    4   794.985421   779.907493   470.124929\n",
      "4    5   943.372249  1065.450219   636.824850\n",
      "5    6  1069.226504  1363.512831   805.217179\n",
      "6    7  1173.795561  1668.825417   970.205904\n",
      "7    8  1257.556757  1973.261849  1126.194268\n",
      "8    9  1322.045636  2267.830987  1267.401913\n",
      "9   10  1369.837853  2552.139457  1393.628629\n",
      "10  11  1402.846536  2825.769991  1508.429646\n",
      "11  12  1422.707143  3089.774060  1609.022798\n"
     ]
    }
   ],
   "source": [
    "#Switch off warnings\n",
    "import warnings\n",
    "warnings.filterwarnings('ignore')\n",
    "\n",
    "#set number of windows\n",
    "n_wind=192\n",
    "#define window increment\n",
    "windowinc = datetime.timedelta(minutes=30)\n",
    "\n",
    "#Create list of dates\n",
    "datetime_list = [endtrain+i*windowinc for i in range(n_wind)]\n",
    "\n",
    "#Initialise vectors to store root mean squared error\n",
    "rmse_ses=np.zeros(hmax)\n",
    "rmse_holt=np.zeros(hmax)\n",
    "rmse_hw=np.zeros(hmax)\n",
    "\n",
    "#Loop\n",
    "\n",
    "for i in datetime_list:\n",
    "    train = df[(df['SETTLEMENTDATE']<=i)]\n",
    "    test = df[(df['SETTLEMENTDATE']>i) & (df['SETTLEMENTDATE']<=(i+fullhor))]\n",
    "\n",
    "    #Simple Exponential Smoothing\n",
    "    model = SimpleExpSmoothing(np.asarray(train['TOTALDEMAND']))\n",
    "    fit_ses = model.fit()\n",
    "    fc_ses = fit_ses.forecast(hmax)\n",
    "    sqerr_ses = np.square(fc_ses-np.asarray(test['TOTALDEMAND']))\n",
    "    rmse_ses += sqerr_ses\n",
    "    \n",
    "    #Simple Exponential Smoothing\n",
    "    model = Holt(np.asarray(train['TOTALDEMAND']))\n",
    "    fit_holt = model.fit()\n",
    "    fc_holt = fit_holt.forecast(hmax)\n",
    "    sqerr_holt = np.square(fc_holt-np.asarray(test['TOTALDEMAND']))\n",
    "    rmse_holt += sqerr_holt\n",
    "\n",
    "    #Holt-Winters Smoothing\n",
    "    model = ExponentialSmoothing(np.asarray(train['TOTALDEMAND']),trend='add',seasonal='add',seasonal_periods=48)\n",
    "    fit_hw = model.fit()\n",
    "    fc_hw = fit_hw.forecast(hmax)\n",
    "    sqerr_hw = np.square(fc_hw-np.asarray(test['TOTALDEMAND']))\n",
    "    rmse_hw += sqerr_hw\n",
    "\n",
    "\n",
    "rmse_ses = np.sqrt(rmse_ses/n_wind)\n",
    "rmse_holt = np.sqrt(rmse_holt/n_wind)\n",
    "rmse_hw = np.sqrt(rmse_hw/n_wind)\n",
    "\n",
    "#Initialise Results data frame\n",
    "res = pd.DataFrame()\n",
    "res['h'] = pd.Series(range(1,hmax+1))\n",
    "res['SES'] = pd.Series(rmse_ses)\n",
    "res['Holt'] = pd.Series(rmse_holt)\n",
    "res['HW'] = pd.Series(rmse_hw)\n",
    "\n",
    "print(res)"
   ]
  },
  {
   "cell_type": "markdown",
   "metadata": {},
   "source": [
    "- The best method one-step ahead is the Holt Winters Method.\n",
    "- The best method twelve-steps ahead is Simple Exponential Smoothing.\n",
    "- Holt performs reasonably well at short horizons but very poorly at medium to long horizons.\n",
    "- Another thing to note is that we are not using all of the data. If we use all available data then we will have some windows towards the end for which longer-horizon forecasts can not be evaluated. This is not a major problem, but note that the denominator in MSE will be different for different horizons (unlike here where we could divide by 192 at all horizons to compute RMSE).  "
   ]
  },
  {
   "cell_type": "markdown",
   "metadata": {},
   "source": [
    "7. What is a major shortcoming of this evaluation? Hint: What happens on April 25th in Australia."
   ]
  },
  {
   "cell_type": "markdown",
   "metadata": {},
   "source": [
    "April 25th is Anzac Day a major public holiday in Australia. In 2021 it was on a Sunday meaning the holiday was moved to the 26th. Therefore the evaluation period includes a public holiday and these days are typically idiosyncratic."
   ]
  },
  {
   "cell_type": "markdown",
   "metadata": {},
   "source": [
    "## Additional Exercises (For those who finish quickly or as subsequent homework)\n",
    "\n",
    "Modify the code above:\n",
    "\n",
    "  1. To use a rolling rather than expanding window.\n",
    "  2. To roll the window forward by 4 hours rather than half an hour.\n",
    "  3. To use the mean absolute error $MAE=\\frac{1}{192}\\sum|y+{t+h}-\\hat{y}_{t+h}|$ as an evaluation criterion."
   ]
  }
 ],
 "metadata": {
  "kernelspec": {
   "display_name": "Python 3",
   "language": "python",
   "name": "python3"
  },
  "language_info": {
   "codemirror_mode": {
    "name": "ipython",
    "version": 3
   },
   "file_extension": ".py",
   "mimetype": "text/x-python",
   "name": "python",
   "nbconvert_exporter": "python",
   "pygments_lexer": "ipython3",
   "version": "3.8.5"
  }
 },
 "nbformat": 4,
 "nbformat_minor": 4
}
