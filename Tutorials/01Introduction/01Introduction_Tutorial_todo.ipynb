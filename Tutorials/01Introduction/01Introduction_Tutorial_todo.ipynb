{
 "cells": [
  {
   "cell_type": "markdown",
   "metadata": {},
   "source": [
    "# QBUS3850 Lab 1 Tasks\n",
    "\n",
    "This tutorial will cover reading in data using pandas, understanding how dates and times work in Python and implementing an expanding window. The dataset that we will use is the electricity dataset from lectures (this can be found on Canvas). We will evaluate forecasts from simple exponential smoothing, Holt's method and the Holt Winters' additive method.\n",
    "\n",
    "## Data and data types\n",
    "\n",
    "1. Read the data from the file into a variable called `df`. \n",
    "2. Check the type of each variable by running `df.dtypes`. Is the variable `SETTLEMENTDATE` a datetime or an object? \n",
    "3. If it is an object, convert it to a datetime."
   ]
  },
  {
   "cell_type": "markdown",
   "metadata": {},
   "source": [
    "The function `read_csv()` can be used to read in the data, make sure that the file electricity.csv is in your working directory otherwise provide a full path to the file."
   ]
  },
  {
   "cell_type": "code",
   "execution_count": null,
   "metadata": {},
   "outputs": [],
   "source": [
    "# TODO: read dataset into dataframe"
   ]
  },
  {
   "cell_type": "markdown",
   "metadata": {},
   "source": [
    "By default, `read_csv()` has read in `SETTLEMENTDATE` as the same type as `REGION`, i.e. as a string and not a datetime. Sometimes we can add the argument `parse_dates=True` but that will not work in this case. Instead to coerce `SETTLEMENTDATE` to a datetime run the following:"
   ]
  },
  {
   "cell_type": "code",
   "execution_count": null,
   "metadata": {},
   "outputs": [],
   "source": [
    "df['SETTLEMENTDATE'] = pd.to_datetime(df['SETTLEMENTDATE'])\n",
    "df.dtypes"
   ]
  },
  {
   "cell_type": "markdown",
   "metadata": {},
   "source": [
    "Note now that the data type of `SETTLEMENTDATE` is a datetime."
   ]
  },
  {
   "cell_type": "markdown",
   "metadata": {},
   "source": [
    "Let's define a helper function that trains and evaluate a given model"
   ]
  },
  {
   "cell_type": "code",
   "execution_count": null,
   "metadata": {},
   "outputs": [],
   "source": [
    "def evaluate_model(model, hmax, test_ses):\n",
    "    \"\"\"\n",
    "    A helper function that evalutae a given model, and returns the\n",
    "    squared error against a given test series.\n",
    "    \"\"\"\n",
    "    #Fit Model\n",
    "    fit_ses = model.fit()\n",
    "    #Make forecasts\n",
    "    fc_ses = fit_ses.forecast(hmax)\n",
    "    #Compute square error\n",
    "    return np.square(fc_ses-test_ses)"
   ]
  },
  {
   "cell_type": "markdown",
   "metadata": {},
   "source": [
    "### Forecast exercise\n",
    "\n",
    "1. Using data from April 1, 00:30  to April 25, 00:00 as training data generate forecasts for the next 6 hours (12 half hour periods) using:\n",
    "  - Simple Exponential Smoothing\n",
    "  - Holt's Method\n",
    "  - Holt Winters' additive method\n",
    "2. Compute the squared error (i.e. $(y_{t+h}-\\hat{y}_{t+h})^2$) for each method at each horizon\n"
   ]
  },
  {
   "cell_type": "code",
   "execution_count": null,
   "metadata": {},
   "outputs": [],
   "source": [
    "#Switch off warnings\n",
    "import warnings\n",
    "warnings.simplefilter('ignore')\n",
    "\n",
    "#datetime needed to manipulate dates\n",
    "import datetime \n",
    "#numpy needed to work with vectors\n",
    "import numpy as np\n",
    "#statmodels needed for models\n",
    "from statsmodels.tsa.holtwinters import SimpleExpSmoothing, Holt, ExponentialSmoothing\n",
    "\n",
    "# TODO: Implements forecast model for different methods"
   ]
  },
  {
   "cell_type": "markdown",
   "metadata": {},
   "source": [
    "Some things to notice:\n",
    "\n",
    "- Holt Winters has the lowest square error at one step ahead\n",
    "- Holt has the lowest square error 12-steps  ahead\n",
    "- Simple exponential smoothing has the worst squared errors at all horizons\n",
    "- None of this is meaningful since we are only looking at a single instance of forecasts."
   ]
  },
  {
   "cell_type": "markdown",
   "metadata": {},
   "source": [
    "3. Repeat the same exercise but for an expanding window that expands one half hour at a time. Do this over 192 windows (i.e. four days). This will take a minute or two to run.\n",
    "4. Compute Root Mean Square Error (RMSE) given by $RMSE=\\sqrt{\\frac{1}{192}\\sum (y_{t+h}-\\hat{y}_{t+h})^2}$ over all windowsfort each forcasting horizon.\n",
    "5. Which method is the best at a one-step ahead horizon?\n",
    "6. Which method is the best at a twelve-step ahead horizon?\n"
   ]
  },
  {
   "cell_type": "code",
   "execution_count": null,
   "metadata": {},
   "outputs": [],
   "source": [
    "#Switch off warnings\n",
    "import warnings\n",
    "warnings.simplefilter('ignore')\n",
    "\n",
    "# TODO: define moving window\n",
    "\n",
    "#Loop\n",
    "\n",
    "for i in datetime_list:\n",
    "    \"TODO: implements the evaluation methods over a moving window\"\n",
    "    \n",
    "\n",
    "\n",
    "rmse_ses = np.sqrt(rmse_ses/n_wind)\n",
    "rmse_holt = np.sqrt(rmse_holt/n_wind)\n",
    "rmse_hw = np.sqrt(rmse_hw/n_wind)\n",
    "\n",
    "#Initialise Results data frame\n",
    "res = pd.DataFrame({\n",
    "    'h': range(1, hmax+1),\n",
    "    'SES': rmse_ses,\n",
    "    'Holt': rmse_holt,\n",
    "    'HW': rmse_hw,\n",
    "})\n",
    "\n",
    "print(res)"
   ]
  },
  {
   "cell_type": "markdown",
   "metadata": {},
   "source": [
    "- The best method one-step ahead is the Holt Winters Method.\n",
    "- The best method twelve-steps ahead is Simple Exponential Smoothing.\n",
    "- Holt performs reasonably well at short horizons but very poorly at medium to long horizons.\n",
    "- Another thing to note is that we are not using all of the data. If we use all available data then we will have some windows towards the end for which longer-horizon forecasts can not be evaluated. This is not a major problem, but note that the denominator in MSE will be different for different horizons (unlike here where we could divide by 192 at all horizons to compute RMSE).  "
   ]
  },
  {
   "cell_type": "markdown",
   "metadata": {},
   "source": [
    "7. What is a major shortcoming of this evaluation? Hint: What happens on April 25th in Australia."
   ]
  },
  {
   "cell_type": "markdown",
   "metadata": {},
   "source": [
    "April 25th is Anzac Day a major public holiday in Australia. In 2021 it was on a Sunday meaning the holiday was moved to the 26th. Therefore the evaluation period includes a public holiday and these days are typically idiosyncratic."
   ]
  },
  {
   "cell_type": "markdown",
   "metadata": {},
   "source": [
    "## Additional Exercises (For those who finish quickly or as subsequent homework)\n",
    "\n",
    "Modify the code above:\n",
    "\n",
    "  1. To use a rolling rather than expanding window.\n",
    "  2. To roll the window forward by 4 hours rather than half an hour.\n",
    "  3. To use the mean absolute error $MAE=\\frac{1}{192}\\sum|y+{t+h}-\\hat{y}_{t+h}|$ as an evaluation criterion."
   ]
  }
 ],
 "metadata": {
  "kernelspec": {
   "display_name": "Python 3",
   "language": "python",
   "name": "python3"
  },
  "language_info": {
   "codemirror_mode": {
    "name": "ipython",
    "version": 3
   },
   "file_extension": ".py",
   "mimetype": "text/x-python",
   "name": "python",
   "nbconvert_exporter": "python",
   "pygments_lexer": "ipython3",
   "version": "3.8.5"
  }
 },
 "nbformat": 4,
 "nbformat_minor": 4
}
