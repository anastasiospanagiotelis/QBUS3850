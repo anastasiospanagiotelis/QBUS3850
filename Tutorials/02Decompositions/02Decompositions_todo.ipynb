{
 "cells": [
  {
   "cell_type": "markdown",
   "metadata": {},
   "source": [
    "# QBUS3850: Lab 2 Tasks\n",
    "\n",
    "The data set CBA_1991-2017.csv (dataset could found on Canvas) contains the monthly closing stock prices stock prices of Commonwealth Bank of Australia (CBA) from August 1991 to December 2017."
   ]
  },
  {
   "cell_type": "code",
   "execution_count": null,
   "metadata": {},
   "outputs": [],
   "source": [
    "import pandas as pd\n",
    "import numpy as np\n",
    "import matplotlib.pylab as plt"
   ]
  },
  {
   "cell_type": "markdown",
   "metadata": {},
   "source": [
    "## 1. Load the data and plot the original data curve."
   ]
  },
  {
   "cell_type": "code",
   "execution_count": null,
   "metadata": {},
   "outputs": [],
   "source": [
    "data = pd.read_csv('CBA_1991-2017.csv', parse_dates=['Date'], index_col='Date')\n",
    "\n",
    "# TODO: visualise the data"
   ]
  },
  {
   "cell_type": "markdown",
   "metadata": {},
   "source": [
    "## 2. Write Python script to do a $2 \\times 12$-MA (Moving average of moving average) method and plot them. You may call pandas package’s rolling_mean or rolling function to do the $2 \\times 12$ smoothing. Then plot the smoothing results onto the original time-series data curve."
   ]
  },
  {
   "cell_type": "code",
   "execution_count": null,
   "metadata": {},
   "outputs": [],
   "source": [
    "from pandas.api.indexers import FixedForwardWindowIndexer\n",
    "\n",
    "indexer = FixedForwardWindowIndexer(window_size=2)\n",
    "# TODO: Implements rolling average"
   ]
  },
  {
   "cell_type": "markdown",
   "metadata": {},
   "source": [
    "## 3. Do a $5$-MA and compare the results with $2 \\times 12$-MA. You may plot these 2 MA results together and examine what is the difference."
   ]
  },
  {
   "cell_type": "code",
   "execution_count": null,
   "metadata": {},
   "outputs": [],
   "source": [
    "Trend2 = data.rolling(5,center = True).mean()\n",
    "\n",
    "# TODO: Implements 5-MA rolling average"
   ]
  },
  {
   "cell_type": "markdown",
   "metadata": {},
   "source": [
    "### 4. Carry out an additive classical decomposition on the log series"
   ]
  },
  {
   "cell_type": "code",
   "execution_count": null,
   "metadata": {},
   "outputs": [],
   "source": [
    "# TODO: find the log of the series"
   ]
  },
  {
   "cell_type": "code",
   "execution_count": null,
   "metadata": {},
   "outputs": [],
   "source": [
    "## Construct the trend and residual.\n",
    "trend = ts_log.rolling( 12, center = True).mean().rolling( 2, center = True ).mean().shift(-1)\n",
    "# TODO: find residual\n",
    "\n",
    "## TODO: Visual check for stationarity\n",
    "\n",
    "## Dickey-Fuller test for stationarity\n",
    "from statsmodels.tsa.stattools import adfuller\n",
    "# TODO"
   ]
  },
  {
   "cell_type": "code",
   "execution_count": null,
   "metadata": {},
   "outputs": [],
   "source": [
    "## Detrend data\n",
    "ts_res = ts_log - trend\n",
    "#print( ts_res[:12] )\n",
    "#print( ts_res[-12:] )\n",
    "\n",
    "## Remove incomplete years and reshape array. There are 24 years of complete yearly data.\n",
    "ts_res_clean = np.nan_to_num( ts_res[17:-12] )\n",
    "monthly_S = np.reshape( ts_res_clean, (24,12) )\n",
    "\n",
    "## Each of the 12 columns of monthly_S contains data for a given month.\n",
    "print( monthly_S[0,:] )\n",
    "print( monthly_S[23,:] )\n"
   ]
  },
  {
   "cell_type": "code",
   "execution_count": null,
   "metadata": {},
   "outputs": [],
   "source": [
    "## Compute seasonal indices\n",
    "monthly_avg = np.mean(monthly_S, axis=0)\n",
    "\n",
    "## De-mean seasonal indices\n",
    "mean_allmonth = monthly_avg.mean()\n",
    "monthly_avg_normalized = monthly_avg - mean_allmonth\n",
    "plt.plot( monthly_avg_normalized )\n",
    "assert( np.isclose( monthly_avg_normalized.mean(), 0.0 ) )"
   ]
  },
  {
   "cell_type": "code",
   "execution_count": null,
   "metadata": {},
   "outputs": [],
   "source": [
    "## Repeat the seasonal indices over 24 years\n",
    "# TODO: use np tile function\n",
    "\n",
    "## Seasonally adjusted = original - seasonal indices\n",
    "seasonally_adjusted = ts_log[17:-12] - tiled_avg\n",
    "\n",
    "## Update the trend-cycle\n",
    "trend_final = seasonally_adjusted.rolling(12, center =True).mean().rolling(2, center = True).mean().shift(-1)\n",
    "ts_res = ts_log[17:-12] - trend_final \n",
    "\n",
    "plt.figure()\n",
    "# TODO: plot subpolts of the seasonality trend\n"
   ]
  },
  {
   "cell_type": "markdown",
   "metadata": {},
   "source": [
    "### 5. Compare results with X13 decomposition."
   ]
  },
  {
   "cell_type": "code",
   "execution_count": null,
   "metadata": {},
   "outputs": [],
   "source": [
    "import pandas as pd\n",
    "import numpy as np\n",
    "import matplotlib.pylab as plt\n",
    "\n",
    "from statsmodels.tsa import x13"
   ]
  },
  {
   "cell_type": "code",
   "execution_count": null,
   "metadata": {},
   "outputs": [],
   "source": [
    "data = pd.read_csv('CBA_1991-2017.csv')\n",
    "print( data.head() )\n",
    "print( data.dtypes )\n",
    "\n",
    "data['Date']=pd.to_datetime(data['Date'], dayfirst=True)\n",
    "data.set_index('Date', inplace=True)\n",
    "print( data.head() )\n",
    "print( data.dtypes )\n"
   ]
  },
  {
   "cell_type": "code",
   "execution_count": null,
   "metadata": {},
   "outputs": [],
   "source": [
    "model = x13.x13_arima_analysis( data['Close'], log=True, forecast_periods=12 )\n",
    "print( model.results )"
   ]
  },
  {
   "cell_type": "code",
   "execution_count": null,
   "metadata": {},
   "outputs": [],
   "source": [
    "plt.figure()\n",
    "fig, ax = plt.subplots(5, 1, figsize = (15,12))\n",
    "ax[0].set_title( 'CBA X13')\n",
    "ax[0].plot( model.observed )\n",
    "ax[1].plot( model.observed / model.seasadj )\n",
    "ax[2].plot( model.seasadj )\n",
    "ax[3].plot( model.trend )\n",
    "ax[4].plot( model.irregular )\n",
    "ax[0].legend(['observed'], loc=2)\n",
    "ax[1].legend(['seasonality'], loc=2)\n",
    "ax[2].legend(['seas_adj'], loc=2)\n",
    "ax[3].legend(['trend'], loc=2)\n",
    "ax[4].legend(['irregular'], loc=2)\n",
    "fig.subplots_adjust(hspace=0.5)\n",
    "\n",
    "#plt.savefig('CBA-X13as.png')\n"
   ]
  },
  {
   "cell_type": "code",
   "execution_count": null,
   "metadata": {},
   "outputs": [],
   "source": []
  },
  {
   "cell_type": "code",
   "execution_count": null,
   "metadata": {},
   "outputs": [],
   "source": []
  }
 ],
 "metadata": {
  "kernelspec": {
   "display_name": "Python 3 (ipykernel)",
   "language": "python",
   "name": "python3"
  },
  "language_info": {
   "codemirror_mode": {
    "name": "ipython",
    "version": 3
   },
   "file_extension": ".py",
   "mimetype": "text/x-python",
   "name": "python",
   "nbconvert_exporter": "python",
   "pygments_lexer": "ipython3",
   "version": "3.8.10"
  }
 },
 "nbformat": 4,
 "nbformat_minor": 4
}
