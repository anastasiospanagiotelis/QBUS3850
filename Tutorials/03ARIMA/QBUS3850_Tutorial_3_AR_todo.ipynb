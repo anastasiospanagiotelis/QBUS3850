{
 "cells": [
  {
   "cell_type": "markdown",
   "metadata": {},
   "source": [
    "## QBUS3850 Lab 3 – ARIMA Models"
   ]
  },
  {
   "cell_type": "markdown",
   "metadata": {},
   "source": [
    "The AutoRegressive Integrated Moving Average (ARIMA) model, which consist 3 major components:\n",
    "- The AR part of ARIMA indicates that the evolving variable of interest 𝑦' is regressed on its own lagged (i.e., prior $y_{t-1:t-p}$) values.\n",
    "- The MA part indicates that the error is actually a linear combination of error terms $\\epsilon_{t-1:t-q}$ whose values occurred contemporaneously and at various times in the past.\n",
    "- The I (for \"integrated\") indicates that the data values have been replaced with the difference between their values and the previous values (and this differencing process may have been performed more than once) so that the ARIMA could handle the non-stationary data. (Note that the AR, MA and ARMA model are still require a weakly stationary data as input)\n",
    "\n",
    "The purpose of each of these features is to make the model fit the data as well as possible. \n",
    "\n",
    "In this week, we mainly focus on the implementation of AR model. Mathematically, an AR model of order $p$ is defined as:\n",
    "\n",
    "$$y_{t} = c + \\phi_{1}y_{t-1} + \\phi_{2}y_{t-2} + \\phi_{3}y_{t-3} \\dots \\phi_{p}y_{t-p} + \\epsilon_{t}$$\n",
    "\n",
    "$$ y_{t} = c + \\sum_{i = 1}^{p} \\phi_{i}y_{t-i} + \\epsilon_{t}$$\n",
    "\n",
    "where c is a constant value, $\\phi_{1} \\dots \\phi_{p}$ are the parameters for the model, and $\\epsilon_{t}$ is white noise.\n",
    "\n",
    "This can be equivalent to the backshift representation with the operator $L$ as:\n",
    "\n",
    "$$ y_{t} = c + \\sum_{i = 1}^{p} \\phi_{i}L^{i}y_{t} + \\epsilon_{t}$$\n",
    "\n",
    "So that moving the summation term to the left side and using polynomial notation, we have:\n",
    "\n",
    "$$ \\epsilon_{t} = y_{t} - \\sum_{i = 1}^{p} \\phi_{i}L^{i}y_{t} - c$$\n",
    "\n",
    "$$ \\epsilon_{t} = (1 - \\sum_{i = 1}^{p} \\phi_{i}L^{i})(y_{t} - \\mu)$$\n",
    "\n",
    "Where $\\mu = c/(1 − \\sum_j \\phi_{j})$.\n",
    "\n",
    "An AR model can thus be viewed as the output of a filter which input is white noise.\n",
    "\n",
    "However, for an AR(p) model, some parameter constraints are necessary for the model to ensure weakly stationary. More specifically, processes in the AR(1) model with only $| \\phi_{1} < 1 |$ could be viewed as __weakly stationary__."
   ]
  },
  {
   "cell_type": "markdown",
   "metadata": {},
   "source": [
    "__Question__: Check whether the process $Y_t=0.3Y_{t-1}+0.04Y_{t-2}+\\epsilon_t$ is stationary?"
   ]
  },
  {
   "cell_type": "markdown",
   "metadata": {},
   "source": [
    "- Solution: Solve the polynomial $1-0.3L-0.04L^2=0$ for $L$ as if $L$ were a number. By the quadratic formula the roots are\n",
    "\n",
    "$$\\begin{aligned}\\frac{0.3\\pm\\sqrt{0.3^2+4\\times 0.04\\times1}}{2\\times 0.04}\\\\\\frac{0.3\\pm\\sqrt{0.25}}{0.08}\\\\\\frac{0.3\\pm 0.5}{0.08}\\end{aligned}$$\n",
    "\n",
    "The roots are 10 and -2.5. Both lie outside the unit circle.\n",
    "\n",
    "For AR(2) model it can be shown that stationarity holds under the following constraints in general:\n",
    "\n",
    "$$|\\phi_{2}| < 1, \\phi_{1} + \\phi_{2} < 1 \\text{ and } \\phi_{1} - \\phi_{2} < 1$$\n"
   ]
  },
  {
   "cell_type": "markdown",
   "metadata": {},
   "source": [
    "Selecting a suitable order value p can be tricky. We need to observe the PACF curve to find out the cutting off value as the order for our AR model. The partial autocorrelation of an AR(p) process equates zero at lag which is\n",
    "bigger than order of p and provide a good model for the correlation in $y_{1:p+1}$, so the appropriate maximum lag is the one beyond which the partial autocorrelations are all zero."
   ]
  },
  {
   "cell_type": "code",
   "execution_count": null,
   "metadata": {},
   "outputs": [],
   "source": [
    "import matplotlib.pyplot as plt\n",
    "import statsmodels as sm \n",
    "import statsmodels.api as smt\n",
    "import numpy as np\n",
    "import pandas as pd\n"
   ]
  },
  {
   "cell_type": "markdown",
   "metadata": {},
   "source": [
    "## 1. AR(1) Process"
   ]
  },
  {
   "cell_type": "code",
   "execution_count": null,
   "metadata": {},
   "outputs": [],
   "source": [
    "# Setting up the random generator \n",
    "np.random.seed(0x123abc)\n",
    "\n",
    "# Y_t = 0.7 * Y_{t-1} + e_t          \n",
    "arparams = np.array([0.7])\n",
    "zero_lag = np.array([1])\n",
    "\n",
    "ar = np.r_[1, -arparams]  # add zero-lag (coefficient 1) and negate\n",
    "c = 0\n",
    "sigma2 = 1\n",
    " \n",
    "# TODO: generate 2000 samples from the arma model in tsa library, and visualise it"
   ]
  },
  {
   "cell_type": "code",
   "execution_count": null,
   "metadata": {},
   "outputs": [],
   "source": [
    "# Examine the ACF and PACF plots\n",
    "lags = 30\n",
    "alpha = 0.05\n",
    "\n",
    "# TODO: plot acf and pacf using smt.graphics"
   ]
  },
  {
   "cell_type": "code",
   "execution_count": null,
   "metadata": {},
   "outputs": [],
   "source": [
    "# Pandas can also produce ACF (but not PACF)\n",
    "from pandas.plotting import autocorrelation_plot\n",
    "\n",
    "# TODO: plot acf using pandas"
   ]
  },
  {
   "cell_type": "code",
   "execution_count": null,
   "metadata": {},
   "outputs": [],
   "source": [
    "# Calculate Mean \n",
    "# Since c = 0 then this result will be 0 anyway\n",
    "y_uncond_mean = c / (1 - arparams[0])\n",
    "print(y_uncond_mean)\n",
    "\n",
    "diff_y = pd.Series.diff(pd.Series(y)).dropna()\n",
    "\n",
    "sample_mean = np.mean(y)\n",
    "print(sample_mean)"
   ]
  },
  {
   "cell_type": "code",
   "execution_count": null,
   "metadata": {
    "scrolled": false
   },
   "outputs": [],
   "source": [
    "# Calculate Variance\n",
    "# arma_generate_sample uses np.random.randn to generate epsilon\n",
    "# We know then that by default \n",
    "# var(epsilon) = 1 (or sigma^2 = 1)\n",
    "# mean(epsilon) = 0\n",
    "\n",
    "y_uncond_var = sigma2 / (1 - np.power(arparams[0],2))\n",
    "print(y_uncond_var)\n",
    "\n",
    "sample_var = np.var(y)\n",
    "print(sample_var)\n"
   ]
  },
  {
   "cell_type": "markdown",
   "metadata": {},
   "source": [
    "## 2. Fit AR(1) to synthesized data\n",
    "\n",
    "Now let’s try and fit a model to these samples and compare the parameters."
   ]
  },
  {
   "cell_type": "code",
   "execution_count": null,
   "metadata": {},
   "outputs": [],
   "source": [
    "## y was generated from the process Y_t = 0.7 * Y_{t-1} + e_t  \n",
    "\n",
    "# TODO: fit a ARMA model via sm.tsa.arima_model.ARMA"
   ]
  },
  {
   "cell_type": "markdown",
   "metadata": {},
   "source": [
    "#### Question:\n",
    " - What does trend='nc' mean?\n",
    " - Can you interpret the result of trend='c'?"
   ]
  },
  {
   "cell_type": "markdown",
   "metadata": {},
   "source": []
  },
  {
   "cell_type": "code",
   "execution_count": null,
   "metadata": {},
   "outputs": [],
   "source": [
    "forecast = fit1.predict( start=0, end=len(y) + 10 )\n",
    "\n",
    "## Plot actual vs fitted + forecasts.\n",
    "plt.figure()\n",
    "plt.plot( forecast )\n",
    "plt.plot(y)\n",
    "plt.title('Forecasts', weight = 'bold')\n",
    "plt.xlim(len(y)-100,len(y)+10)\n",
    "plt.show()\n",
    "\n",
    "# Quick plot actual vs fitted + forecasts with 95% confidence intervals. \n",
    "fit1.plot_predict( start=len(y)-100, end=len(y)+10, alpha=0.05 )\n",
    "print()"
   ]
  },
  {
   "cell_type": "code",
   "execution_count": null,
   "metadata": {},
   "outputs": [],
   "source": [
    "p,q = 1,0\n",
    "\n",
    "from statsmodels.tsa.arima_model import ARIMA\n",
    "\n",
    "# TODO: fit a ARIMA model using order (p, 0, q)"
   ]
  },
  {
   "cell_type": "markdown",
   "metadata": {},
   "source": [
    "## 3. Fit AR(p) to real data"
   ]
  },
  {
   "cell_type": "code",
   "execution_count": null,
   "metadata": {},
   "outputs": [],
   "source": [
    "data = pd.read_csv('data.csv')\n",
    "data = data['Data']\n",
    "\n",
    "#data = pd.read_csv('AirPassengers.csv')\n",
    "#data = np.log( data['Passengers'] )\n",
    "\n",
    "plt.figure()\n",
    "plt.plot(data)"
   ]
  },
  {
   "cell_type": "code",
   "execution_count": null,
   "metadata": {},
   "outputs": [],
   "source": [
    "# We calculate difference series, data[1]-data[0], data[2]-data[1],...\n",
    "# TODO: see pd.Series.diff\n",
    "\n",
    "# Checking the first entry in diff_data. Why is it a nan? What should we do about it?\n",
    "# TODO: handle na\n",
    "\n",
    "# TODO: Plot the differenced data"
   ]
  },
  {
   "cell_type": "code",
   "execution_count": null,
   "metadata": {},
   "outputs": [],
   "source": [
    "# TODO: Plot the ACF/PACF for the data using lag=30\n",
    "\n",
    "# How to plot 95% confidence intervals?\n",
    "# Note that the standard deviation is computed according to \n",
    "# Bartlett’s formula.\n"
   ]
  },
  {
   "cell_type": "code",
   "execution_count": null,
   "metadata": {
    "scrolled": true
   },
   "outputs": [],
   "source": [
    "# TODO: Compare it against differenced time series"
   ]
  },
  {
   "cell_type": "markdown",
   "metadata": {},
   "source": [
    "#### Questions:\n",
    " - What order AR model is appropriate?\n",
    " - Fit an AR model to the differenced data.\n",
    " - Plot the differenced data against the AR model predictions.\n",
    " - Plot the original data against the AR model predictions.\n",
    " - Re-do these questions with Air Passenger data."
   ]
  },
  {
   "cell_type": "code",
   "execution_count": null,
   "metadata": {},
   "outputs": [],
   "source": [
    "# TODO: fit AR model on differenced data using ordes (1,0) and plot the result\n"
   ]
  },
  {
   "cell_type": "code",
   "execution_count": null,
   "metadata": {},
   "outputs": [],
   "source": [
    "forecast = fit2.predict(start=0, end=len(diff_data) + 10 )\n",
    "\n",
    "plt.figure()\n",
    "plt.plot( data[0] + np.cumsum( forecast )  / fit2.params[0] )\n",
    "plt.plot( data[0] + np.cumsum( diff_data ) )\n",
    "plt.title('Forecasts', weight = 'bold')\n",
    "plt.xlim( 0, len(diff_data) + 10 )\n",
    "plt.show()"
   ]
  },
  {
   "cell_type": "code",
   "execution_count": null,
   "metadata": {},
   "outputs": [],
   "source": [
    "p,q = 1,0\n",
    "\n",
    "from statsmodels.tsa.arima_model import ARIMA\n",
    "# TODO: train an ARIMA model with order (p, 1, q), and plot the result"
   ]
  },
  {
   "cell_type": "code",
   "execution_count": null,
   "metadata": {},
   "outputs": [],
   "source": []
  }
 ],
 "metadata": {
  "kernelspec": {
   "display_name": "Python 3 (ipykernel)",
   "language": "python",
   "name": "python3"
  },
  "language_info": {
   "codemirror_mode": {
    "name": "ipython",
    "version": 3
   },
   "file_extension": ".py",
   "mimetype": "text/x-python",
   "name": "python",
   "nbconvert_exporter": "python",
   "pygments_lexer": "ipython3",
   "version": "3.8.10"
  }
 },
 "nbformat": 4,
 "nbformat_minor": 4
}
