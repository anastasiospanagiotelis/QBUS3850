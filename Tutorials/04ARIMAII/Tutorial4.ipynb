{
 "cells": [
  {
   "cell_type": "markdown",
   "metadata": {},
   "source": [
    "## QBUS3850 Lab 4 (ARIMA Models) Task\n",
    "\n",
    "In this tutorial we will work on the Minneapolis traffic data available on Canvas. This data contains daily observations of traffic volume and was originally sources from John Hogue who made it available at the [UCI machine learning repository](https://archive.ics.uci.edu/ml/datasets/Metro+Interstate+Traffic+Volume). Some post-process of the data has been carried out.\n",
    "\n",
    "Your task will be to use all data up to 2018-07-31 to forecast the next two months ahead (August and September 2018). You will use the following models\n",
    "\n",
    "- An AR(1)\n",
    "- An MA(1)\n",
    "- An ARIMA selected by auto_arima\n",
    "- A seasonal ARIMA selected by auto_arima \n",
    "- A regression with holiday dummies and errors following seasonal ARIMA selected by auto_arima \n",
    "- A regression with holiday dummies and Fourier terms and errors following seasonal ARIMA selected by auto_arima\n",
    "\n",
    "After estimating each model, plot the forecasts together with some training data and the test data. Comment on how the forecasts reflect the properties of each model."
   ]
  },
  {
   "cell_type": "markdown",
   "metadata": {},
   "source": [
    "### Autoregressive Model (AR1)"
   ]
  },
  {
   "cell_type": "code",
   "execution_count": null,
   "metadata": {},
   "outputs": [],
   "source": []
  }
 ],
 "metadata": {
  "kernelspec": {
   "display_name": "Python 3",
   "language": "python",
   "name": "python3"
  },
  "language_info": {
   "codemirror_mode": {
    "name": "ipython",
    "version": 3
   },
   "file_extension": ".py",
   "mimetype": "text/x-python",
   "name": "python",
   "nbconvert_exporter": "python",
   "pygments_lexer": "ipython3",
   "version": "3.8.5"
  }
 },
 "nbformat": 4,
 "nbformat_minor": 4
}
