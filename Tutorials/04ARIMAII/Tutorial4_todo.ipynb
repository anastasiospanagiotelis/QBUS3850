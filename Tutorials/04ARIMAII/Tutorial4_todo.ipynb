{
 "cells": [
  {
   "cell_type": "code",
   "execution_count": null,
   "metadata": {},
   "outputs": [],
   "source": [
    "import warnings\n",
    "warnings.filterwarnings('ignore')"
   ]
  },
  {
   "cell_type": "markdown",
   "metadata": {},
   "source": [
    "## QBUS3850 Lab 4 (ARIMA Models) Task\n",
    "\n",
    "In this tutorial we will work on the Minneapolis traffic data available on Canvas. This data contains daily observations of traffic volume and was originally sourced from John Hogue who made it available at the [UCI machine learning repository](https://archive.ics.uci.edu/ml/datasets/Metro+Interstate+Traffic+Volume). Some post-processing of the data has been carried out.\n",
    "\n",
    "Your task will be to use all data up to 2018-07-31 to forecast the next two months ahead (August and September 2018). You will use the following models\n",
    "\n",
    "- An AR(2)\n",
    "- An MA(2)\n",
    "- An ARIMA selected by auto_arima\n",
    "- A seasonal ARIMA selected by auto_arima \n",
    "- A regression with holiday dummies and errors following seasonal ARIMA selected by auto_arima \n",
    "- A regression with holiday dummies and two pairs of (i.e.four) Fourier terms and errors following seasonal ARIMA selected by auto_arima\n",
    "\n",
    "After estimating each model, plot the forecasts together with some training data and the test data. Comment on how the forecasts reflect the properties of each model."
   ]
  },
  {
   "cell_type": "markdown",
   "metadata": {},
   "source": [
    "### Preliminary analysis"
   ]
  },
  {
   "cell_type": "markdown",
   "metadata": {},
   "source": [
    "First import and plot the data"
   ]
  },
  {
   "cell_type": "code",
   "execution_count": null,
   "metadata": {
    "scrolled": true
   },
   "outputs": [],
   "source": [
    "import pandas as pd\n",
    "import matplotlib.pyplot as plt\n",
    "\n",
    "# read csv and plot the data"
   ]
  },
  {
   "cell_type": "markdown",
   "metadata": {},
   "source": [
    "Weekly effects apparent, but since the period over which data are collected is short, the variance does not get bigger over time. There is no need to take log transformation.\n",
    "\n",
    "Although an intercept and the Holiday dummies are included in the dataset, Fourier terms are not. It is best to compute these now."
   ]
  },
  {
   "cell_type": "code",
   "execution_count": null,
   "metadata": {},
   "outputs": [],
   "source": [
    "import numpy as np\n",
    "from datetime import datetime\n",
    "#Day of year\n",
    "dat['DayOfYear'] = dat.loc[:,'date'].dt.dayofyear\n",
    "#Need to compute days in year. These are not the same since 2016 is a leap year\n",
    "dat['Year']= dat.loc[:,'date'].dt.year\n",
    "dat['DaysInYear']=365.0\n",
    "dat.loc[dat['Year']==2016,'DaysInYear']=366.0\n",
    "# Now compute Fourier terms\n",
    "dat['FourS1']=np.sin(2*np.pi*(dat['DayOfYear']/dat['DaysInYear']))\n",
    "dat['FourC1']=np.cos(2*np.pi*(dat['DayOfYear']/dat['DaysInYear']))\n",
    "dat['FourS2']=np.sin(2*2*np.pi*(dat['DayOfYear']/dat['DaysInYear']))\n",
    "dat['FourC2']=np.cos(2*2*np.pi*(dat['DayOfYear']/dat['DaysInYear']))\n",
    "          \n",
    "#Split out training and test data\n",
    "train = dat.loc[(dat['date']<='2018-07-31')]\n",
    "test = dat.loc[(dat['date']>'2018-07-31')]"
   ]
  },
  {
   "cell_type": "markdown",
   "metadata": {},
   "source": [
    "### Autoregressive Model (AR2)"
   ]
  },
  {
   "cell_type": "markdown",
   "metadata": {},
   "source": [
    "Fit an AR(2) model"
   ]
  },
  {
   "cell_type": "code",
   "execution_count": null,
   "metadata": {},
   "outputs": [],
   "source": [
    "# fit AR(2) and print summary"
   ]
  },
  {
   "cell_type": "code",
   "execution_count": null,
   "metadata": {},
   "outputs": [],
   "source": [
    "fc_ar2 = fitar2.forecast(len(test))\n",
    "# plot train, test, and forecast in the same graph\n",
    "\n",
    "\n",
    "fig, ax = plt.subplots(1,figsize=(25,6))\n",
    "end = train.loc[(train['date']>'2018-05-31')]\n",
    "ax.plot(end['date'],end['Traffic'],color='black')\n",
    "ax.plot(test['date'],test['Traffic'],color='gray')\n",
    "ax.plot(test['date'],fc_ar2,color='orange')"
   ]
  },
  {
   "cell_type": "markdown",
   "metadata": {},
   "source": [
    "### MA(2)\n",
    "\n",
    "Fit an MA(2) model"
   ]
  },
  {
   "cell_type": "code",
   "execution_count": null,
   "metadata": {},
   "outputs": [],
   "source": [
    "# TODO: fit MA(2) and print summary"
   ]
  },
  {
   "cell_type": "code",
   "execution_count": null,
   "metadata": {
    "scrolled": true
   },
   "outputs": [],
   "source": [
    "fc_ma2 = fitma2.forecast(len(test))\n",
    "\n",
    "# TODO: plot train, test, and forecast in the same graph"
   ]
  },
  {
   "cell_type": "markdown",
   "metadata": {},
   "source": [
    "We can plot results from the AR and MA together"
   ]
  },
  {
   "cell_type": "code",
   "execution_count": null,
   "metadata": {},
   "outputs": [],
   "source": [
    "# TODO: Plot AR and MA together "
   ]
  },
  {
   "cell_type": "markdown",
   "metadata": {},
   "source": [
    "### Auto arima without seasonality"
   ]
  },
  {
   "cell_type": "code",
   "execution_count": null,
   "metadata": {},
   "outputs": [],
   "source": [
    "import numpy as np\n",
    "from statsforecast.models import auto_arima\n",
    "from statsforecast.arima import auto_arima_f\n",
    "train_arr = train.to_numpy(dtype='float')\n",
    "out = auto_arima_f(train_arr[:,1],seasonal=False)\n",
    "print(out['arma'])"
   ]
  },
  {
   "cell_type": "markdown",
   "metadata": {},
   "source": [
    "Auto arima suggests an ARIMA(3,1,3)"
   ]
  },
  {
   "cell_type": "code",
   "execution_count": null,
   "metadata": {},
   "outputs": [],
   "source": [
    "# TODO: fit an arima model with the suggested order"
   ]
  },
  {
   "cell_type": "code",
   "execution_count": null,
   "metadata": {},
   "outputs": [],
   "source": [
    "fc_aans = fitaans.forecast(len(test))\n",
    "fig, ax = plt.subplots(1,figsize=(25,6))\n",
    "ax.plot(end['date'],end['Traffic'],color='black')\n",
    "ax.plot(test['date'],test['Traffic'],color='gray')\n",
    "ax.plot(test['date'],fc_aans,color='green')\n"
   ]
  },
  {
   "cell_type": "markdown",
   "metadata": {},
   "source": [
    "### Auto arima with weekly seasonality"
   ]
  },
  {
   "cell_type": "code",
   "execution_count": null,
   "metadata": {},
   "outputs": [],
   "source": [
    "out = auto_arima_f(train_arr[:,1],seasonal=True, period=7)\n",
    "print(out['arma'])"
   ]
  },
  {
   "cell_type": "markdown",
   "metadata": {},
   "source": [
    "Recall that the \n",
    "- first element is the (non-seasonal) AR order\n",
    "- the second element is the (non-seasonal) MA order\n",
    "- the third element is the seasonal AR order\n",
    "- the fourth element in the seasonal MA order\n",
    "- the fifth element is the period\n",
    "- the sixth element is the order of non-seasonal differencing\n",
    "- the seventh element is the order of seasonal differencing.\n",
    "\n",
    "\n",
    "Auto arima suggests a SARIMA (0,0,3)(2,1,1)[7]"
   ]
  },
  {
   "cell_type": "code",
   "execution_count": null,
   "metadata": {},
   "outputs": [],
   "source": [
    "# TODO: fit an arima model with the suggested seasonal order"
   ]
  },
  {
   "cell_type": "code",
   "execution_count": null,
   "metadata": {},
   "outputs": [],
   "source": [
    "fc_aas = fitaas.forecast(len(test))\n",
    "fig, ax = plt.subplots(1,figsize=(25,6))\n",
    "ax.plot(end['date'],end['Traffic'],color='black')\n",
    "ax.plot(test['date'],test['Traffic'],color='gray')\n",
    "ax.plot(test['date'],fc_aas,color='orange')\n"
   ]
  },
  {
   "cell_type": "markdown",
   "metadata": {},
   "source": [
    "### Auto arima with seasonality and holiday dummies "
   ]
  },
  {
   "cell_type": "code",
   "execution_count": null,
   "metadata": {},
   "outputs": [],
   "source": [
    "out = auto_arima_f(train_arr[:,1],xreg=train_arr[:,2:3],seasonal=True, period=7)\n",
    "print(out['arma'])"
   ]
  },
  {
   "cell_type": "code",
   "execution_count": null,
   "metadata": {},
   "outputs": [],
   "source": [
    "fitaash = sm.tsa.arima.model.ARIMA(train['Traffic'],exog=train[['Int','Holiday']],order = (0,0,3),seasonal_order=(2,1,1,7)).fit()\n",
    "fitaash.summary()"
   ]
  },
  {
   "cell_type": "code",
   "execution_count": null,
   "metadata": {
    "scrolled": true
   },
   "outputs": [],
   "source": [
    "# TODO: forecast with the holiday dummies as exog, and plot against our previous forecast"
   ]
  },
  {
   "cell_type": "markdown",
   "metadata": {},
   "source": [
    "The 3rd September, 2018 was Labor Day (a U.S public holiday). Zoom in on that day"
   ]
  },
  {
   "cell_type": "code",
   "execution_count": null,
   "metadata": {},
   "outputs": [],
   "source": [
    "fig, ax = plt.subplots(1,figsize=(25,6))\n",
    "ax.plot(test['date'].iloc[30:36],fc_aas.iloc[30:36],color='orange')\n",
    "ax.plot(test['date'].iloc[30:36],fc_aash.iloc[30:36],color='blue')\n",
    "ax.plot(test['date'].iloc[30:36],test['Traffic'].iloc[30:36],color='gray')"
   ]
  },
  {
   "cell_type": "markdown",
   "metadata": {},
   "source": [
    "### Model with Fourier terms"
   ]
  },
  {
   "cell_type": "code",
   "execution_count": null,
   "metadata": {},
   "outputs": [],
   "source": [
    "out = auto_arima_f(train_arr[:,1],xreg=train_arr[:,2:7],seasonal=True, period=7)\n",
    "print(out['arma'])"
   ]
  },
  {
   "cell_type": "code",
   "execution_count": null,
   "metadata": {},
   "outputs": [],
   "source": [
    "fitaashf = sm.tsa.arima.model.ARIMA(train['Traffic'],exog=train[['Int','Holiday','FourS1','FourC1','FourS2','FourC2']],order = (1,0,0),seasonal_order=(2,1,1,7)).fit()\n",
    "fitaashf.summary()"
   ]
  },
  {
   "cell_type": "code",
   "execution_count": null,
   "metadata": {},
   "outputs": [],
   "source": [
    "future_x = test[['Int' , 'Holiday','FourS1','FourC1','FourS2','FourC2']].to_numpy(dtype='float')\n",
    "fc_aashf = fitaashf.forecast(len(test),exog = future_x)\n",
    "fig, ax = plt.subplots(1,figsize=(25,6))\n",
    "ax.plot(end['date'],end['Traffic'],color='black')\n",
    "ax.plot(test['date'],test['Traffic'],color='gray')\n",
    "ax.plot(test['date'],fc_aas,color='orange')\n",
    "ax.plot(test['date'],fc_aashf,color='green')"
   ]
  },
  {
   "cell_type": "code",
   "execution_count": null,
   "metadata": {},
   "outputs": [],
   "source": []
  }
 ],
 "metadata": {
  "kernelspec": {
   "display_name": "Python 3 (ipykernel)",
   "language": "python",
   "name": "python3"
  },
  "language_info": {
   "codemirror_mode": {
    "name": "ipython",
    "version": 3
   },
   "file_extension": ".py",
   "mimetype": "text/x-python",
   "name": "python",
   "nbconvert_exporter": "python",
   "pygments_lexer": "ipython3",
   "version": "3.9.10"
  }
 },
 "nbformat": 4,
 "nbformat_minor": 4
}
