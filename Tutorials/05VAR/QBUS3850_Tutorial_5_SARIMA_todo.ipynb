{
 "cells": [
  {
   "cell_type": "markdown",
   "metadata": {},
   "source": [
    "## QBUS3850 Lab 5 (SARIMA) Task\n"
   ]
  },
  {
   "cell_type": "code",
   "execution_count": null,
   "metadata": {},
   "outputs": [],
   "source": [
    "import numpy as np\n",
    "import pandas as pd\n",
    "import datetime as dt\n",
    "import statsmodels as sm \n",
    "import statsmodels.api as smt\n",
    "import matplotlib.pyplot as plt\n",
    "\n",
    "from statsmodels.tsa.arima_model import ARIMA\n",
    "from statsmodels.tsa.statespace.sarimax import SARIMAX\n",
    "\n",
    "## Make larger plots\n",
    "from matplotlib.pylab import rcParams\n",
    "rcParams['figure.figsize'] = 15, 6"
   ]
  },
  {
   "cell_type": "markdown",
   "metadata": {},
   "source": [
    "#### 1. Use a SARIMA model on the forecast competition (NEM) data.\n",
    " - Identify the season $m$ and the orders of differencing $(d,D)$.\n",
    " - Plot the ACF and PACF.\n",
    " - Identify the non-seasonal part of the model $(p,q)$.\n",
    " - Identify the seasonal part of the model $(P,Q)$.\n",
    " - Generate forecasts from the training set and compare to the test set."
   ]
  },
  {
   "cell_type": "code",
   "execution_count": null,
   "metadata": {},
   "outputs": [],
   "source": [
    "filename = \"nem-resample.csv\"\n",
    "ts = pd.read_csv( filename, index_col='SETTLEMENTDATE', parse_dates=True )\n",
    "\n",
    "y = ts['TOTALDEMAND'][:-1]\n",
    "print( y.tail() )\n",
    "\n",
    "plt.plot( y )\n",
    "\n",
    "## Split into training set and test set.\n",
    "today = pd.to_datetime( dt.date( 2020, 3, 13 ) )\n",
    "assert( today.dayofweek == 4 ) ## 4 is Friday\n",
    "\n",
    "split = y.index.get_loc( today )\n",
    "assert( y[ split ] == y[ today ] )"
   ]
  },
  {
   "cell_type": "code",
   "execution_count": null,
   "metadata": {},
   "outputs": [],
   "source": [
    "fig, ax = plt.subplots( 1, 2, figsize=(10,5) )\n",
    "\n",
    "#TODO: plot acf and pacf to inspect the trend of the dataset"
   ]
  },
  {
   "cell_type": "code",
   "execution_count": null,
   "metadata": {},
   "outputs": [],
   "source": [
    "## I try d=1, D=1  (other choices, e.g. d=0, D=1, should also be tried and assessed)\n",
    "## Differencing (d=1).\n",
    "y_diff = y - y.shift(1)\n",
    "y_diff.dropna( inplace=True )\n",
    "\n",
    "## Seasonal differencing (D=1).\n",
    "y_sdiff = y_diff - y_diff.shift(7)\n",
    "y_sdiff.dropna( inplace=True )\n",
    "\n",
    "# TODO: plot ACF/PACF with lag=45 and assess the quality "
   ]
  },
  {
   "cell_type": "markdown",
   "metadata": {},
   "source": []
  },
  {
   "cell_type": "code",
   "execution_count": null,
   "metadata": {},
   "outputs": [],
   "source": [
    "p,d,q = 3,1,0\n",
    "P,D,Q = 0,1,1\n",
    "m = 7\n",
    "\n",
    "# TODO: fit a SARIMAX model with the given orders"
   ]
  },
  {
   "cell_type": "code",
   "execution_count": null,
   "metadata": {},
   "outputs": [],
   "source": [
    "y2 = fit2.fittedvalues.rename( 'SARIMA' )\n",
    "f2 = fit2.forecast(8)\n",
    "\n",
    "y[-60:].plot( color='red')\n",
    "y2[-60:].plot( color='blue', legend=True )\n",
    "f2.plot( color='black' )\n",
    "\n",
    "fc_sarima = f2[1:8]\n",
    "id_sarima = 205\n",
    "print( id_sarima, end=',')\n",
    "print( \",\".join( [ str( int(yy) ) for yy in fc_sarima ] ) )"
   ]
  }
 ],
 "metadata": {
  "kernelspec": {
   "display_name": "Python 3 (ipykernel)",
   "language": "python",
   "name": "python3"
  },
  "language_info": {
   "codemirror_mode": {
    "name": "ipython",
    "version": 3
   },
   "file_extension": ".py",
   "mimetype": "text/x-python",
   "name": "python",
   "nbconvert_exporter": "python",
   "pygments_lexer": "ipython3",
   "version": "3.9.10"
  }
 },
 "nbformat": 4,
 "nbformat_minor": 2
}
