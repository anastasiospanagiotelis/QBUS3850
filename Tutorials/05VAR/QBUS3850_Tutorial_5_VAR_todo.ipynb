{
 "cells": [
  {
   "cell_type": "markdown",
   "metadata": {},
   "source": [
    "## QBUS3850 Lab 5 (VAR) Task"
   ]
  },
  {
   "cell_type": "code",
   "execution_count": null,
   "metadata": {},
   "outputs": [],
   "source": [
    "import matplotlib.pyplot as plt\n",
    "import statsmodels as sm \n",
    "import statsmodels.api as smt\n",
    "import numpy as np\n",
    "import pandas as pd\n",
    "\n",
    "from statsmodels.tsa.api import VAR\n",
    "\n",
    "from matplotlib.pylab import rcParams\n",
    "rcParams['figure.figsize'] = 15, 6"
   ]
  },
  {
   "cell_type": "markdown",
   "metadata": {},
   "source": [
    "### 1. Load 5 years of stock prices for BHP (BHP.AX.csv) and Rio Tinto (RIO.AX.csv).\n",
    "\n",
    "Data are from Yahoo. Adj Close means historical close price, adjusted for dividends and corporate actions."
   ]
  },
  {
   "cell_type": "code",
   "execution_count": null,
   "metadata": {},
   "outputs": [],
   "source": [
    "# TODO: read the BHP.AX.csv and RIO.AX.csv dataset\n",
    "\n",
    "# TODO: plot both dataset's Adj Close"
   ]
  },
  {
   "cell_type": "markdown",
   "metadata": {},
   "source": [
    "### 2. Construct the daily return series for each stock.\n",
    "\n",
    "Recall that returns are defined as\n",
    "\n",
    "$$\\textrm{Return}_t=\\frac{\\textrm{Closing Price}_t-\\textrm{Closing Price}_{t-1}}{\\textrm{Closing Price}_t}$$"
   ]
  },
  {
   "cell_type": "code",
   "execution_count": null,
   "metadata": {},
   "outputs": [],
   "source": [
    "## Daily return series\n",
    "y = ( cl - cl.shift() ) / cl.shift()\n",
    "y.dropna( inplace=True )\n",
    "print( y.head(10) )\n",
    "\n",
    "# TODO: plot a zoomed-in plot between 2020-01-01 and 2020-03-31\n"
   ]
  },
  {
   "cell_type": "markdown",
   "metadata": {},
   "source": [
    "### 3. Plot the autocorrelation and lagged cross-correlation of the stocks' return series.\n",
    " - Do both variables affect eachother?\n",
    " - Are both variables stationary?"
   ]
  },
  {
   "cell_type": "code",
   "execution_count": null,
   "metadata": {},
   "outputs": [],
   "source": [
    "def demean(x):\n",
    "    return x - np.mean( x )\n",
    "\n",
    "plt.figure()\n",
    "plt.xcorr( y['BHP'], y['BHP'], detrend=demean, maxlags=15 )\n",
    "plt.axhline( 2.0/np.sqrt( len(y) ), color='orange' )\n",
    "plt.axhline( -2.0/np.sqrt( len(y) ), color='orange' )\n",
    "\n",
    "plt.figure()\n",
    "plt.xcorr( y['BHP'], y['RIO'], detrend=demean, maxlags=15 )\n",
    "plt.axhline( 2.0/np.sqrt( len(y) ), color='orange' )\n",
    "plt.axhline( -2.0/np.sqrt( len(y) ), color='orange' )\n",
    "\n",
    "plt.figure()\n",
    "plt.xcorr( y['RIO'], y['RIO'], detrend=demean, maxlags=15 )\n",
    "plt.axhline( 2.0/np.sqrt( len(y) ), color='orange' )\n",
    "plt.axhline( -2.0/np.sqrt( len(y) ), color='orange' )\n",
    "\n",
    "print()"
   ]
  },
  {
   "cell_type": "markdown",
   "metadata": {},
   "source": [
    "### 4. Fit an appropriate VAR model. \n",
    " - Is it significant?"
   ]
  },
  {
   "cell_type": "code",
   "execution_count": null,
   "metadata": {},
   "outputs": [],
   "source": [
    "# TODO: fit an order 4 VAR model\n",
    "\n",
    "## Plot residual autocorrelations\n",
    "fit.plot_acorr()\n",
    "print()"
   ]
  },
  {
   "cell_type": "markdown",
   "metadata": {},
   "source": [
    "### 5. Produce forecasts."
   ]
  },
  {
   "cell_type": "code",
   "execution_count": null,
   "metadata": {},
   "outputs": [],
   "source": [
    "f = fit.forecast( y.values, 10 )\n",
    "\n",
    "plt.plot( np.r_[ y.values[-50:,], f ] )\n",
    "plt.legend( labels=['BHP', 'RIO'])\n",
    "plt.axvline( 50, color='black' )\n"
   ]
  },
  {
   "cell_type": "code",
   "execution_count": null,
   "metadata": {},
   "outputs": [],
   "source": []
  }
 ],
 "metadata": {
  "kernelspec": {
   "display_name": "Python 3 (ipykernel)",
   "language": "python",
   "name": "python3"
  },
  "language_info": {
   "codemirror_mode": {
    "name": "ipython",
    "version": 3
   },
   "file_extension": ".py",
   "mimetype": "text/x-python",
   "name": "python",
   "nbconvert_exporter": "python",
   "pygments_lexer": "ipython3",
   "version": "3.9.10"
  }
 },
 "nbformat": 4,
 "nbformat_minor": 2
}
