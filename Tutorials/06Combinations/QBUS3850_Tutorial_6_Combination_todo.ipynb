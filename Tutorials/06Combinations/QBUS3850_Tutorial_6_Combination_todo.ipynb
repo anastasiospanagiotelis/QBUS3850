{
 "cells": [
  {
   "cell_type": "markdown",
   "metadata": {},
   "source": [
    "## QBUS3850 Lab 6 (Combination)"
   ]
  },
  {
   "cell_type": "markdown",
   "metadata": {},
   "source": [
    "The M-Competitions (Makridakis Competitions) are 'a series of open competitions organized and led by forecasting researcher Prof. Spyros Makridakis, intending to evaluate and compare the accuracy of different forecasting methods.'\n",
    "https://mofc.unic.ac.cy/history-of-competitions/\n",
    "\n",
    "The M4 dataset consists of '100,000 time series selected ... from industries, services, tourism, imports & exports, demographics, education, labor & wage, government, households, bonds, stocks, insurances, loans, real estate, transportation, and natural resources & environment'.\n",
    "https://mofc.unic.ac.cy/the-dataset/\n",
    "\n",
    "Further information and results (open access):\n",
    "https://www.sciencedirect.com/science/article/pii/S0169207019301128\n"
   ]
  },
  {
   "cell_type": "markdown",
   "metadata": {},
   "source": [
    "We will look at the monthly series:\n",
    " - There are 48,000 series. Each series provides a training set for algorithms to produce forecasts, and a test set against which the forecasts are evaluated.\n",
    " - The minimum length of the training set for each series is 42, although many series are much longer. \n",
    " - The test set has length 18 for each series.\n",
    "\n",
    "M4 codebase:\n",
    "git clone https://github.com/Mcompetitions/M4-methods\n",
    "\n",
    "(Requires .deb packages: libblas-dev, liblapack-dev, libcurl4-openssl-dev)\n",
    "(Requires R packages: forecast)"
   ]
  },
  {
   "cell_type": "code",
   "execution_count": null,
   "metadata": {},
   "outputs": [],
   "source": [
    "import matplotlib.pyplot as plt\n",
    "import statsmodels as sm \n",
    "\n",
    "import statsmodels.api as smt\n",
    "import numpy as np\n",
    "import pandas as pd\n",
    "import warnings\n",
    "\n",
    "from matplotlib.pylab import rcParams\n",
    "rcParams['figure.figsize'] = 15, 6"
   ]
  },
  {
   "cell_type": "code",
   "execution_count": null,
   "metadata": {},
   "outputs": [],
   "source": [
    "## Load the train and test datasets.\n",
    "df_train = pd.read_csv('Monthly-train.csv', index_col='V1' )\n",
    "df_test = pd.read_csv('Monthly-test.csv', index_col='V1' )\n"
   ]
  },
  {
   "cell_type": "code",
   "execution_count": null,
   "metadata": {},
   "outputs": [],
   "source": [
    "## Plot one of the timeseries.\n",
    "i = 567\n",
    "\n",
    "# TODO: plot series index 567"
   ]
  },
  {
   "cell_type": "code",
   "execution_count": null,
   "metadata": {},
   "outputs": [],
   "source": [
    "## Performance measure (from M4-methods/'Benchmarks and Evaluation.R')\n",
    "## Symmetric Mean Absolute Percentage Error (sMAPE)\n",
    "def smape( outsample, forecasts ):\n",
    "    # TODO: implements this\n",
    "    pass\n",
    "\n",
    "## Alternative performance measure:\n",
    "## Root-Mean-Square Percentage Error (RMSPE)\n",
    "def rmspe( outsample, forecasts ):\n",
    "    # TODO: implements this\n",
    "    pass\n"
   ]
  },
  {
   "cell_type": "code",
   "execution_count": null,
   "metadata": {},
   "outputs": [],
   "source": [
    "## Test performance measures.\n",
    "outsample = np.asarray( [ 100, 100, 100 ] )\n",
    "forecasts = np.asarray( [ 105, 95, 95 ] )\n",
    "print( smape( outsample, forecasts ) )\n",
    "print( rmspe( outsample, forecasts ) )"
   ]
  },
  {
   "cell_type": "markdown",
   "metadata": {},
   "source": [
    "### Decomposition\n",
    " - For seasonal adjustment, use statsmodels' in-built decomposition, or the method presented in Lab 2."
   ]
  },
  {
   "cell_type": "code",
   "execution_count": null,
   "metadata": {},
   "outputs": [],
   "source": [
    "from statsmodels.tsa.seasonal import seasonal_decompose"
   ]
  },
  {
   "cell_type": "code",
   "execution_count": null,
   "metadata": {},
   "outputs": [],
   "source": [
    "horizon = 18\n",
    "m = 12\n",
    "\n",
    "decomposition = seasonal_decompose( train, period=m, model='mult' )\n",
    "seasind = np.tile( decomposition.seasonal[-m:], 1 + horizon//m )[:horizon]\n",
    "seasadj = train / decomposition.seasonal"
   ]
  },
  {
   "cell_type": "code",
   "execution_count": null,
   "metadata": {},
   "outputs": [],
   "source": [
    "train.plot( color='orange')\n",
    "seasadj.plot( color='blue')\n"
   ]
  },
  {
   "cell_type": "markdown",
   "metadata": {},
   "source": [
    "## Task. \n",
    "\n",
    "### 1. Construct the following benchmark forecasting algorithms:\n",
    " - fc0. Naive random walk\n",
    " - fc1. Seasonal random walk\n",
    " - fc2. Seasonally adjusted random walk\n",
    " - fc3. Simple Exponential Smoothing of seasonally adjusted data\n",
    " - fc4. Holt Smoothing of seasonally adjusted data\n",
    " - fc5. Damped Holt Smoothing of seasonally adjusted data\n",
    "  \n",
    "### 2. Construct the combination forecast:\n",
    " - fc6 = ( fc3 + fc4 + fc5 )/3\n",
    "and compare its performance to each individual benchmark."
   ]
  },
  {
   "cell_type": "markdown",
   "metadata": {},
   "source": [
    "### Benchmark forecasting algorithms"
   ]
  },
  {
   "cell_type": "code",
   "execution_count": null,
   "metadata": {},
   "outputs": [],
   "source": [
    "## Naive random walk:\n",
    "def naive_rw( train ):\n",
    "    # TODO: implements this\n",
    "    pass\n",
    "\n",
    "## Seasonal random walk:\n",
    "def seasonal_rw( train ):\n",
    "    # TODO: implements this\n",
    "    pass\n",
    "\n",
    "## Simple exponential smoothing:\n",
    "from statsmodels.tsa.holtwinters import SimpleExpSmoothing\n",
    "def ses( train ):\n",
    "    # TODO: implements this\n",
    "    pass\n",
    "\n",
    "## Holt-Winters:\n",
    "from statsmodels.tsa.holtwinters import ExponentialSmoothing\n",
    "def holt( train ):\n",
    "    # TODO: implements this\n",
    "    pass\n",
    "\n",
    "## Damped:\n",
    "from statsmodels.tsa.holtwinters import ExponentialSmoothing\n",
    "def damped( train ):\n",
    "    # TODO: implements this\n",
    "    pass"
   ]
  },
  {
   "cell_type": "code",
   "execution_count": null,
   "metadata": {},
   "outputs": [],
   "source": [
    "## Test benchmarks\n",
    "i = 222\n",
    "train = df_train.iloc[ i, ].dropna()\n",
    "\n",
    "decomposition = seasonal_decompose( train, period=m, model='mult' )\n",
    "seasind = np.tile( decomposition.seasonal[-m:], 1 + horizon//m )[:horizon]\n",
    "seasadj = train / decomposition.seasonal\n",
    "\n",
    "tail = 60\n",
    "plt.plot( train.values[-tail:] )\n",
    "\n",
    "def show( forecasts, color ):\n",
    "    plt.plot( np.r_[ [np.NaN]*tail, forecasts ], color=color )\n",
    "    #print( forecasts )\n",
    "    \n",
    "show( naive_rw( train ), 'blue' )\n",
    "show( seasonal_rw( train ), 'orange' )\n",
    "show( naive_rw( seasadj ) * seasind, 'purple' )\n",
    "show( ses( seasadj ) * seasind, 'red' )\n",
    "show( holt( seasadj ) * seasind, 'green' )\n",
    "show( damped( seasadj ) * seasind, 'black' )\n"
   ]
  },
  {
   "cell_type": "markdown",
   "metadata": {},
   "source": [
    "### Evaluate benchmark algorithms' performance"
   ]
  },
  {
   "cell_type": "code",
   "execution_count": null,
   "metadata": {},
   "outputs": [],
   "source": [
    "assert( len( df_train ) == len( df_test ) )\n",
    "\n",
    "m = 12 ## Seasonality\n",
    "horizon = 18 ## Forecasting horizon\n",
    "\n",
    "colnames = [ 'naive_rw', 'seasonal_rw', 'seasadj_rw', 'ses', 'holt', 'damped', 'combination' ]\n",
    "perf = pd.DataFrame( index=df_train.index, columns=colnames )\n",
    "\n",
    "#for i in range( 0, len( df_train ) ) :\n",
    "for i in range( 0, 800 ) :\n",
    "    train = df_train.iloc[ i, ].dropna()\n",
    "    test = df_test.iloc[ i, ].dropna()\n",
    "\n",
    "    assert( len(test) == horizon )\n",
    "    \n",
    "    decomp = seasonal_decompose( train, period=m, model='mult' )\n",
    "    seasadj = train / decomp.seasonal\n",
    "    seasind = np.tile( decomp.seasonal[-m:], 1 + horizon//m )[:horizon]    \n",
    "    \n",
    "    fc0 = naive_rw( train )\n",
    "    perf.iloc[i,0] = smape( test, fc0 )\n",
    "       \n",
    "    fc1 = seasonal_rw( train )\n",
    "    perf.iloc[i,1] = smape( test, fc1 )\n",
    "    \n",
    "    fc2 = naive_rw( seasadj ) * seasind\n",
    "    perf.iloc[i,2] = smape( test, fc2 )\n",
    "\n",
    "    ## Catch convergence warnings from exponential smoothing routines.\n",
    "    with warnings.catch_warnings():\n",
    "        warnings.filterwarnings(\"ignore\")\n",
    "\n",
    "        fc3 = ses( seasadj ) * seasind\n",
    "        perf.iloc[i,3] = smape( test, fc3 )\n",
    "\n",
    "        fc4 = holt( seasadj ) * seasind\n",
    "        perf.iloc[i,4] = smape( test, fc4 )\n",
    "\n",
    "        fc5 = damped( seasadj ) * seasind\n",
    "        perf.iloc[i,5] = smape( test, fc5 )\n",
    "\n",
    "    fc6 = ( fc3 + fc4 + fc5 ) / 3\n",
    "    perf.iloc[i,6] = smape( test, fc6 )\n",
    "    \n",
    "    ## Print a simple progress bar. Each '#' represents 10 series; each line 1000 series.\n",
    "    if i%10 == 9:\n",
    "        print( '#', sep='', end='' )\n",
    "    if i%1000 == 999:\n",
    "        print()\n"
   ]
  },
  {
   "cell_type": "code",
   "execution_count": null,
   "metadata": {},
   "outputs": [],
   "source": [
    "print( \"Performance by series:\")\n",
    "print( perf.head(20) )\n",
    "\n",
    "print( \"Performance overall:\")\n",
    "print( perf.mean().round(2) )\n"
   ]
  },
  {
   "cell_type": "code",
   "execution_count": null,
   "metadata": {},
   "outputs": [],
   "source": []
  }
 ],
 "metadata": {
  "kernelspec": {
   "display_name": "Python 3 (ipykernel)",
   "language": "python",
   "name": "python3"
  },
  "language_info": {
   "codemirror_mode": {
    "name": "ipython",
    "version": 3
   },
   "file_extension": ".py",
   "mimetype": "text/x-python",
   "name": "python",
   "nbconvert_exporter": "python",
   "pygments_lexer": "ipython3",
   "version": "3.9.10"
  }
 },
 "nbformat": 4,
 "nbformat_minor": 2
}
