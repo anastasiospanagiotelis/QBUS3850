{
 "cells": [
  {
   "cell_type": "markdown",
   "metadata": {},
   "source": [
    "# QBUS3850 Lab 6: ARCH Models\n",
    "\n",
    "To install Kevin Sheppard's 'arch' package:\n",
    " - in the Anaconda Prompt: `conda install arch -c bashtage`, or\n",
    " - using pip3 in an Administrator cmd prompt: `pip3 install arch`\n",
    " \n",
    "This tutorial uses arch version 4.13.\n"
   ]
  },
  {
   "cell_type": "code",
   "execution_count": null,
   "metadata": {},
   "outputs": [],
   "source": []
  },
  {
   "cell_type": "markdown",
   "metadata": {},
   "source": [
    "## Import Data\n",
    "\n",
    "Import the dataset BHP00-17.csv, containing daily prices on BHP stock from 2000-01-01 to 2017-04-17. \n"
   ]
  },
  {
   "cell_type": "code",
   "execution_count": null,
   "metadata": {},
   "outputs": [],
   "source": []
  },
  {
   "cell_type": "markdown",
   "metadata": {},
   "source": [
    "### Q1(a)  Transform the prices to percentage log-returns. Plot the price and return series. Comment."
   ]
  },
  {
   "cell_type": "code",
   "execution_count": null,
   "metadata": {},
   "outputs": [],
   "source": []
  },
  {
   "cell_type": "markdown",
   "metadata": {},
   "source": [
    "### Q1(b) Calculate some relevant summary statistics and then comment on the performance of BHP stock over the sample period. Perform the JB test for Gaussianity on the return series."
   ]
  },
  {
   "cell_type": "code",
   "execution_count": null,
   "metadata": {},
   "outputs": [],
   "source": []
  },
  {
   "cell_type": "markdown",
   "metadata": {},
   "source": [
    "### Q1(c)  Fit an ARCH(1) model to the return data using ML. Report and interpret the parameter estimates and plot the estimated volatility series. Discuss the estimated series and its’ properties.\n",
    "\n",
    "Note:\n",
    "- The \"p\" argument in the \"arch\" package arch_model function specifies the lag order of the symmetric innovation\n",
    "- The \"q\" argument in the \"arch\" package arch_model function specifies the lag order of lagged volatility"
   ]
  },
  {
   "cell_type": "code",
   "execution_count": null,
   "metadata": {},
   "outputs": [],
   "source": []
  },
  {
   "cell_type": "markdown",
   "metadata": {},
   "source": [
    "### Q1(d) Compare the unconditional variance estimated from the ARCH model with the sample variance? Are these close?"
   ]
  },
  {
   "cell_type": "code",
   "execution_count": null,
   "metadata": {},
   "outputs": [],
   "source": []
  },
  {
   "cell_type": "markdown",
   "metadata": {},
   "source": [
    "### Q1(e)  Compare the unconditional kurtosis estimated from the ARCH model with the sample kurtosis? Are these close? "
   ]
  },
  {
   "cell_type": "code",
   "execution_count": null,
   "metadata": {},
   "outputs": [],
   "source": []
  },
  {
   "cell_type": "markdown",
   "metadata": {},
   "source": [
    "### Q1(f) Find the LS (using the squared errors) estimates for the parameters. Are these close to the ML estimates?"
   ]
  },
  {
   "cell_type": "code",
   "execution_count": null,
   "metadata": {},
   "outputs": [],
   "source": []
  },
  {
   "cell_type": "markdown",
   "metadata": {},
   "source": [
    "### Q1(g) Repeat parts (d) and (e) for the LS estimates."
   ]
  },
  {
   "cell_type": "code",
   "execution_count": null,
   "metadata": {},
   "outputs": [],
   "source": []
  },
  {
   "cell_type": "markdown",
   "metadata": {},
   "source": [
    "### Q1(h) Are the unconditional variance and kurtosis estimates from the LS and ML estimates close to each other? Which estimates are closer to the sample variance and kurtosis? Why do you think this might be?"
   ]
  },
  {
   "cell_type": "code",
   "execution_count": null,
   "metadata": {},
   "outputs": [],
   "source": []
  },
  {
   "cell_type": "markdown",
   "metadata": {},
   "source": [
    "### Bonus: Import the dataset BHP00-20.csv, containing daily prices on BHP stock from 2000-01-01 to 2020-04-06. How has recent volatility affected the results?\n"
   ]
  },
  {
   "cell_type": "code",
   "execution_count": null,
   "metadata": {},
   "outputs": [],
   "source": []
  }
 ],
 "metadata": {
  "kernelspec": {
   "display_name": "Python 3",
   "language": "python",
   "name": "python3"
  },
  "language_info": {
   "codemirror_mode": {
    "name": "ipython",
    "version": 3
   },
   "file_extension": ".py",
   "mimetype": "text/x-python",
   "name": "python",
   "nbconvert_exporter": "python",
   "pygments_lexer": "ipython3",
   "version": "3.8.5"
  }
 },
 "nbformat": 4,
 "nbformat_minor": 2
}
