{
 "cells": [
  {
   "cell_type": "markdown",
   "metadata": {},
   "source": [
    "## QBUS3850 Tutorial 6 (ARCH)\n",
    "\n",
    "To install Kevin Sheppard's 'arch' package:\n",
    " - in the Anaconda Prompt: `conda install arch -c bashtage`, or\n",
    " - using pip3 in an Administrator cmd prompt: `pip3 install arch`\n",
    " \n",
    "This tutorial uses arch version 4.13.\n"
   ]
  },
  {
   "cell_type": "code",
   "execution_count": null,
   "metadata": {},
   "outputs": [],
   "source": [
    "import pandas as pd\n",
    "import numpy as np\n",
    "import matplotlib.pyplot as plt\n",
    "import statsmodels.api as sm\n",
    "from scipy import stats as st\n",
    "from arch import arch_model\n",
    "\n",
    "from matplotlib.pylab import rcParams\n",
    "rcParams['figure.figsize'] = 15, 6"
   ]
  },
  {
   "cell_type": "markdown",
   "metadata": {},
   "source": [
    "The ARCH(1) model is defined by\n",
    "$$\n",
    "\\begin{align}\n",
    "a_t &= \\sigma_t \\epsilon_t \\\\\n",
    "\\sigma_t^2 &= \\alpha_0 + \\alpha_1 a_{t-1}^2\n",
    "\\end{align}\n",
    "$$\n",
    "where $\\alpha_0 > 0$ and $\\alpha_1 \\ge 0$, and $\\epsilon_t$ are iid with mean zero and variance 1.\n",
    "The unconditional mean of $a_t$ is zero because\n",
    "$$\n",
    "E(a_t) = \\sigma_t E( \\epsilon_t ) = 0 .\n",
    "$$\n",
    "The unconditional variance of $a_t$ can be computed as\n",
    "$$\n",
    "\\begin{align}\n",
    "Var( a_t ) &= E(a_t^2) \\\\\n",
    "           &= E( \\alpha_0 + \\alpha_1 a_{t-1}^2 ) \\\\\n",
    "           &= \\alpha_0 + \\alpha_1 E( a_{t-1}^2 ) \\\\\n",
    "           &= \\alpha_0 + \\alpha_1 Var( a_t )\n",
    "\\end{align}\n",
    "$$\n",
    "where the last line follows by stationarity of $a_t$. Therefore \n",
    "$$\n",
    "Var( a_t ) = \\frac{ \\alpha_0 }{ 1 - \\alpha_1 }. \n",
    "$$\n",
    "By a similar but longer calculation,\n",
    "$$\n",
    "E( a_t^4 ) = \\frac{ 3 \\alpha_0^2 ( 1 + \\alpha_1 ) }{ ( 1 - \\alpha_1 )( 1 - 3\\alpha_1^2 ) }.\n",
    "$$\n",
    "The unconditional kurtosis of $a_t$ is therefore\n",
    "$$\n",
    "\\frac{ E( a_t^4 ) }{ Var(a_t)^2 } = 3 \\frac{ 1 - \\alpha_1^2 }{ 1 - 3\\alpha_1^2 } > 3\n",
    "$$\n",
    "$a_t$ is therefore leptokurtic (longer-tailed than the normal distribution)."
   ]
  },
  {
   "cell_type": "markdown",
   "metadata": {},
   "source": [
    "## Generate synthetic data"
   ]
  },
  {
   "cell_type": "code",
   "execution_count": null,
   "metadata": {},
   "outputs": [],
   "source": [
    "## Setting up the random generator \n",
    "np.random.seed( 0xabc123 )\n",
    "\n",
    "## Length of series\n",
    "n = 10000\n",
    "\n",
    "## ARCH(1) coefficients alpha0 and alpha1\n",
    "a = ( 2.0, 0.3 )\n",
    "#TODO fit arch model"
   ]
  },
  {
   "cell_type": "code",
   "execution_count": null,
   "metadata": {},
   "outputs": [],
   "source": [
    "## Some relevant summary statistics:\n",
    "# TODO: view summary"
   ]
  },
  {
   "cell_type": "code",
   "execution_count": null,
   "metadata": {},
   "outputs": [],
   "source": [
    "#TODO: Histogram\n",
    "\n",
    "\n",
    "# TODO: qq plot\n",
    "\n",
    "## TODO: Jarque-Bera test for Gaussianity\n"
   ]
  },
  {
   "cell_type": "markdown",
   "metadata": {},
   "source": [
    "## Fit an ARCH(1) model by maximum likelihood"
   ]
  },
  {
   "cell_type": "code",
   "execution_count": null,
   "metadata": {},
   "outputs": [],
   "source": [
    "## Estimate ARCH(1) model"
   ]
  },
  {
   "cell_type": "code",
   "execution_count": null,
   "metadata": {},
   "outputs": [],
   "source": [
    "s = fit.conditional_volatility ## Infer the conditional standard deviations\n",
    "v = s**2                       ## Conditional variance\n",
    "\n",
    "## Plot the estimated conditional standard deviations against time\n",
    "figure = plt.figure()\n",
    "plt.plot( s )\n",
    "plt.ylim( 0, s.max() * 1.05 )\n",
    "plt.title( 'Inferred Conditional Standard Deviations' )\n",
    "#plt.axhline( np.sqrt( a[0] ), color='cyan' )\n",
    "plt.show()\n",
    "\n",
    "## Equivalent\n",
    "#fit.plot()\n",
    "#print()"
   ]
  },
  {
   "cell_type": "markdown",
   "metadata": {},
   "source": [
    "### Question: Why is there a clear minimum for inferred conditional standard deviations?"
   ]
  },
  {
   "cell_type": "code",
   "execution_count": null,
   "metadata": {},
   "outputs": [],
   "source": [
    "a1 = fit.params[ 'alpha[1]' ] ## coefficient of a(t-1)^2 in conditional vol equation\n",
    "a0 = fit.params[ 'omega' ]    ## constant term from conditional vol equation\n",
    "\n",
    "#TODO: estimaet the unconditional variance"
   ]
  },
  {
   "cell_type": "markdown",
   "metadata": {},
   "source": [
    "## Fit an ARCH(1) model using Engle (1982) LS estimator"
   ]
  },
  {
   "cell_type": "code",
   "execution_count": null,
   "metadata": {},
   "outputs": [],
   "source": [
    "a = y - y.mean() #demeaned returns (errors in mean equation)\n",
    "\n",
    "a2 = a[1:]**2 #demeaned returns squared (y-variable) \n",
    "a2_shift = a[:-1]**2 #lagged demeaned returns squared (x-variable)\n",
    "xmat = np.c_[ np.ones( len(y) - 1 ), a2_shift ] #X matrix for LS regression of ARCH equation\n",
    "\n",
    "print( np.c_[ a2, xmat ] )"
   ]
  },
  {
   "cell_type": "code",
   "execution_count": null,
   "metadata": {},
   "outputs": [],
   "source": [
    "#OLS regression of demeaned returns squared vs lags\n",
    "# TODO: fit with OLS model\n"
   ]
  },
  {
   "cell_type": "code",
   "execution_count": null,
   "metadata": {},
   "outputs": [],
   "source": [
    "## b[0] is the estimate of constant and b[1] is the estimate of the coefficient of a(t-1)^2\n",
    "ls_var = b[0] / ( 1 - b[1] )\n",
    "ls_kurt = 3 * ( 1 - b[1]**2 ) / ( 1 - 3*b[1]**2 )\n",
    "\n",
    "print( 'Model-based unconditional variance estimate from regression: %g' % ls_var) \n",
    "print( 'Model-based unconditional kurtosis estimate from regression: %g' % ls_kurt )"
   ]
  },
  {
   "cell_type": "code",
   "execution_count": null,
   "metadata": {},
   "outputs": [],
   "source": [
    "## Re-cap previous results\n",
    "print( 'Model-based unconditional variance estimate: %g' % fit_var )\n",
    "print( 'Sample variance: %g' % sample_var )\n",
    "\n",
    "print( 'Model-based unconditional kurtosis estimate: %g' % fit_kurt )\n",
    "print( 'Sample kurtosis: %g' % sample_kurt )"
   ]
  },
  {
   "cell_type": "code",
   "execution_count": null,
   "metadata": {},
   "outputs": [],
   "source": []
  }
 ],
 "metadata": {
  "kernelspec": {
   "display_name": "Python 3",
   "language": "python",
   "name": "python3"
  },
  "language_info": {
   "codemirror_mode": {
    "name": "ipython",
    "version": 3
   },
   "file_extension": ".py",
   "mimetype": "text/x-python",
   "name": "python",
   "nbconvert_exporter": "python",
   "pygments_lexer": "ipython3",
   "version": "3.9.7"
  }
 },
 "nbformat": 4,
 "nbformat_minor": 2
}
